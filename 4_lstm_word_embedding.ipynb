{
 "cells": [
  {
   "cell_type": "markdown",
   "metadata": {},
   "source": [
    "# LSTM classifier with word embedding representation"
   ]
  },
  {
   "cell_type": "code",
   "execution_count": 1,
   "metadata": {},
   "outputs": [],
   "source": [
    "import numpy as np\n",
    "from sklearn.metrics import roc_auc_score\n",
    "\n",
    "import torch\n",
    "from torch import nn\n",
    "from torch.nn.utils.rnn import (pad_sequence,\n",
    "                                pack_padded_sequence,\n",
    "                                pad_packed_sequence)\n",
    "import torch.nn.functional as F\n",
    "import spacy\n",
    "nlp = spacy.load('en_core_web_md')\n",
    "\n",
    "from helper import load_data\n",
    "\n",
    "device = torch.device('cuda:0' if torch.cuda.is_available() else 'cpu')"
   ]
  },
  {
   "cell_type": "code",
   "execution_count": 2,
   "metadata": {},
   "outputs": [],
   "source": [
    "x_train, x_validation, x_test, y_train, y_validation, y_test = load_data()\n",
    "\n",
    "N_CLASSES = y_train.columns.size\n",
    "BATCH_SIZE = 64"
   ]
  },
  {
   "cell_type": "code",
   "execution_count": 3,
   "metadata": {},
   "outputs": [],
   "source": [
    "def text2tensor(text):\n",
    "    doc = nlp(text)\n",
    "    tokens = [token.vector for token in doc if token.is_alpha]\n",
    "    if len(tokens) < 10:\n",
    "        tokens = [token.vector for token in doc]\n",
    "    return torch.Tensor(np.vstack(tokens)).to(device)"
   ]
  },
  {
   "cell_type": "code",
   "execution_count": 4,
   "metadata": {},
   "outputs": [],
   "source": [
    "def batch_pad_pack_train(corpus, batch_size=64):\n",
    "    groups = np.arange(len(corpus)) // batch_size\n",
    "    batched = corpus.groupby(groups)\n",
    "\n",
    "    tensors = []\n",
    "    for i, text_batch in batched:\n",
    "        batched_tensors = [text2tensor(text) for text in text_batch]\n",
    "        padded = pad_sequence(batched_tensors, batch_first=True)\n",
    "        packed = pack_padded_sequence(\n",
    "            padded,\n",
    "            lengths=[tensor.shape[0] for tensor in batched_tensors],\n",
    "            batch_first=True,\n",
    "            enforce_sorted=False)\n",
    "        tensors.append(packed)\n",
    "\n",
    "    return tensors\n",
    "\n",
    "def batch_labels(labels, batch_size=64):\n",
    "    out = []\n",
    "    for _, df in labels.groupby(np.arange(len(labels)) // batch_size):\n",
    "        out.append(torch.Tensor(df.values).to(device))\n",
    "    return out"
   ]
  },
  {
   "cell_type": "code",
   "execution_count": 5,
   "metadata": {},
   "outputs": [],
   "source": [
    "x_train_tensors = batch_pad_pack_train(x_train, BATCH_SIZE)"
   ]
  },
  {
   "cell_type": "code",
   "execution_count": 6,
   "metadata": {},
   "outputs": [],
   "source": [
    "y_train_tensors = batch_labels(y_train, BATCH_SIZE)\n",
    "\n",
    "x_validation_tensors = batch_pad_pack_train(x_validation, BATCH_SIZE)"
   ]
  },
  {
   "cell_type": "code",
   "execution_count": 59,
   "metadata": {},
   "outputs": [],
   "source": [
    "class Model(nn.Module):\n",
    "    EMBEDDINGS_DIM = 300\n",
    "    LSTM_HIDDEN_SIZE = 128\n",
    "    LSTM_STACK_DEPTH = 2\n",
    "    \n",
    "    def __init__(self, n_classes):\n",
    "        super(Model, self).__init__()\n",
    "        self.lstm = nn.LSTM(input_size=Model.EMBEDDINGS_DIM,\n",
    "                            hidden_size=Model.LSTM_HIDDEN_SIZE,\n",
    "                            num_layers=Model.LSTM_STACK_DEPTH,\n",
    "                            dropout=0.5)\n",
    "        self.dense = nn.Linear(in_features=Model.LSTM_HIDDEN_SIZE,\n",
    "                               out_features=n_classes)\n",
    "    \n",
    "    def forward(self, embeddings):\n",
    "        lstm_out_packed, _ = self.lstm(embeddings)\n",
    "        lstm_last_out = pad_packed_sequence(lstm_out_packed, batch_first=True)[0][:, len(lstm_out_packed) - 1]\n",
    "        dense_out = self.dense(lstm_last_out)\n",
    "        return torch.sigmoid(dense_out)"
   ]
  },
  {
   "cell_type": "code",
   "execution_count": 57,
   "metadata": {},
   "outputs": [],
   "source": [
    "def inference_score(model, x, y, average='macro'):\n",
    "    \"\"\"\n",
    "    @param x - list of PyTorch's PackedSequence\n",
    "    @param y - numpy ndarray (n_samples, n_classes)\n",
    "    @return ROC AUC score\n",
    "    \"\"\"\n",
    "    batch_size = x[0].sorted_indices.shape[0]\n",
    "    y_pred = np.zeros_like(y, dtype=np.float32)\n",
    "    with torch.no_grad():\n",
    "        for i, batch in enumerate(x):\n",
    "            pred_i = model(batch).numpy()\n",
    "            y_pred[i * batch_size : i * batch_size + pred_i.shape[0]] = pred_i\n",
    "\n",
    "    return roc_auc_score(y, y_pred, average=average)"
   ]
  },
  {
   "cell_type": "code",
   "execution_count": 60,
   "metadata": {},
   "outputs": [
    {
     "name": "stdout",
     "output_type": "stream",
     "text": [
      "Epoch [1/5] | loss: 0.42788\n",
      "ROC AUC score - train: 0.84704, validation: 0.83745\n",
      "\n",
      "Epoch [2/5] | loss: 0.32531\n",
      "ROC AUC score - train: 0.87011, validation: 0.84834\n",
      "\n"
     ]
    },
    {
     "ename": "KeyboardInterrupt",
     "evalue": "",
     "output_type": "error",
     "traceback": [
      "\u001b[0;31m---------------------------------------------------------------------------\u001b[0m",
      "\u001b[0;31mKeyboardInterrupt\u001b[0m                         Traceback (most recent call last)",
      "\u001b[0;32m<ipython-input-60-2b59abae1062>\u001b[0m in \u001b[0;36m<module>\u001b[0;34m\u001b[0m\n\u001b[1;32m     13\u001b[0m         \u001b[0moutput\u001b[0m \u001b[0;34m=\u001b[0m \u001b[0mmodel\u001b[0m\u001b[0;34m(\u001b[0m\u001b[0mtext_embedding\u001b[0m\u001b[0;34m)\u001b[0m\u001b[0;34m\u001b[0m\u001b[0;34m\u001b[0m\u001b[0m\n\u001b[1;32m     14\u001b[0m         \u001b[0mloss\u001b[0m \u001b[0;34m=\u001b[0m \u001b[0mcriterion\u001b[0m\u001b[0;34m(\u001b[0m\u001b[0moutput\u001b[0m\u001b[0;34m,\u001b[0m \u001b[0mground_truth\u001b[0m\u001b[0;34m)\u001b[0m\u001b[0;34m\u001b[0m\u001b[0;34m\u001b[0m\u001b[0m\n\u001b[0;32m---> 15\u001b[0;31m         \u001b[0mloss\u001b[0m\u001b[0;34m.\u001b[0m\u001b[0mbackward\u001b[0m\u001b[0;34m(\u001b[0m\u001b[0;34m)\u001b[0m\u001b[0;34m\u001b[0m\u001b[0;34m\u001b[0m\u001b[0m\n\u001b[0m\u001b[1;32m     16\u001b[0m         \u001b[0moptimizer\u001b[0m\u001b[0;34m.\u001b[0m\u001b[0mstep\u001b[0m\u001b[0;34m(\u001b[0m\u001b[0;34m)\u001b[0m\u001b[0;34m\u001b[0m\u001b[0;34m\u001b[0m\u001b[0m\n\u001b[1;32m     17\u001b[0m \u001b[0;34m\u001b[0m\u001b[0m\n",
      "\u001b[0;32m~/Programs/venv3/lib/python3.8/site-packages/torch/tensor.py\u001b[0m in \u001b[0;36mbackward\u001b[0;34m(self, gradient, retain_graph, create_graph)\u001b[0m\n\u001b[1;32m    219\u001b[0m                 \u001b[0mretain_graph\u001b[0m\u001b[0;34m=\u001b[0m\u001b[0mretain_graph\u001b[0m\u001b[0;34m,\u001b[0m\u001b[0;34m\u001b[0m\u001b[0;34m\u001b[0m\u001b[0m\n\u001b[1;32m    220\u001b[0m                 create_graph=create_graph)\n\u001b[0;32m--> 221\u001b[0;31m         \u001b[0mtorch\u001b[0m\u001b[0;34m.\u001b[0m\u001b[0mautograd\u001b[0m\u001b[0;34m.\u001b[0m\u001b[0mbackward\u001b[0m\u001b[0;34m(\u001b[0m\u001b[0mself\u001b[0m\u001b[0;34m,\u001b[0m \u001b[0mgradient\u001b[0m\u001b[0;34m,\u001b[0m \u001b[0mretain_graph\u001b[0m\u001b[0;34m,\u001b[0m \u001b[0mcreate_graph\u001b[0m\u001b[0;34m)\u001b[0m\u001b[0;34m\u001b[0m\u001b[0;34m\u001b[0m\u001b[0m\n\u001b[0m\u001b[1;32m    222\u001b[0m \u001b[0;34m\u001b[0m\u001b[0m\n\u001b[1;32m    223\u001b[0m     \u001b[0;32mdef\u001b[0m \u001b[0mregister_hook\u001b[0m\u001b[0;34m(\u001b[0m\u001b[0mself\u001b[0m\u001b[0;34m,\u001b[0m \u001b[0mhook\u001b[0m\u001b[0;34m)\u001b[0m\u001b[0;34m:\u001b[0m\u001b[0;34m\u001b[0m\u001b[0;34m\u001b[0m\u001b[0m\n",
      "\u001b[0;32m~/Programs/venv3/lib/python3.8/site-packages/torch/autograd/__init__.py\u001b[0m in \u001b[0;36mbackward\u001b[0;34m(tensors, grad_tensors, retain_graph, create_graph, grad_variables)\u001b[0m\n\u001b[1;32m    128\u001b[0m         \u001b[0mretain_graph\u001b[0m \u001b[0;34m=\u001b[0m \u001b[0mcreate_graph\u001b[0m\u001b[0;34m\u001b[0m\u001b[0;34m\u001b[0m\u001b[0m\n\u001b[1;32m    129\u001b[0m \u001b[0;34m\u001b[0m\u001b[0m\n\u001b[0;32m--> 130\u001b[0;31m     Variable._execution_engine.run_backward(\n\u001b[0m\u001b[1;32m    131\u001b[0m         \u001b[0mtensors\u001b[0m\u001b[0;34m,\u001b[0m \u001b[0mgrad_tensors_\u001b[0m\u001b[0;34m,\u001b[0m \u001b[0mretain_graph\u001b[0m\u001b[0;34m,\u001b[0m \u001b[0mcreate_graph\u001b[0m\u001b[0;34m,\u001b[0m\u001b[0;34m\u001b[0m\u001b[0;34m\u001b[0m\u001b[0m\n\u001b[1;32m    132\u001b[0m         allow_unreachable=True)  # allow_unreachable flag\n",
      "\u001b[0;31mKeyboardInterrupt\u001b[0m: "
     ]
    }
   ],
   "source": [
    "N_EPOCHS = 5\n",
    "model = Model(N_CLASSES)\n",
    "optimizer = torch.optim.Adam(model.parameters())\n",
    "criterion = nn.BCELoss()\n",
    "\n",
    "training_scores = []\n",
    "validation_scores = []\n",
    "\n",
    "for epoch in range(N_EPOCHS):\n",
    "    epoch_loss = 0.0\n",
    "    for text_embedding, ground_truth in zip(x_train_tensors, y_train_tensors):\n",
    "        optimizer.zero_grad()\n",
    "        output = model(text_embedding)\n",
    "        loss = criterion(output, ground_truth)\n",
    "        loss.backward()\n",
    "        optimizer.step()\n",
    "\n",
    "        epoch_loss += loss.item()\n",
    "\n",
    "    train_score = inference_score(model, x_train_tensors, y_train)\n",
    "    validation_score = inference_score(model, x_validation_tensors, y_validation)\n",
    "    print('Epoch [{}/{}] | loss: {:.5f}'.format(\n",
    "          epoch + 1, N_EPOCHS,\n",
    "          epoch_loss / len(x_train_tensors)))\n",
    "    print('ROC AUC score - train: {:.5f}, validation: {:.5f}\\n'.format(\n",
    "          train_score, validation_score))\n",
    "    training_scores.append(train_score)\n",
    "    validation_scores.append(validation_score)"
   ]
  },
  {
   "cell_type": "markdown",
   "metadata": {},
   "source": [
    "## Model performance evaluation"
   ]
  },
  {
   "cell_type": "markdown",
   "metadata": {},
   "source": [
    "x_test_tensors = corpus2tensors(x_test)"
   ]
  },
  {
   "cell_type": "markdown",
   "metadata": {},
   "source": [
    "test_score = inference_score(x_test_tensors, y_test)\n",
    "print('Test ROC AUC:', test_score)"
   ]
  }
 ],
 "metadata": {
  "kernelspec": {
   "display_name": "Python 3",
   "language": "python",
   "name": "python3"
  },
  "language_info": {
   "codemirror_mode": {
    "name": "ipython",
    "version": 3
   },
   "file_extension": ".py",
   "mimetype": "text/x-python",
   "name": "python",
   "nbconvert_exporter": "python",
   "pygments_lexer": "ipython3",
   "version": "3.8.5"
  }
 },
 "nbformat": 4,
 "nbformat_minor": 4
}
