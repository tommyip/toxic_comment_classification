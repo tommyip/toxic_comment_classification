{
  "nbformat": 4,
  "nbformat_minor": 0,
  "metadata": {
    "kernelspec": {
      "display_name": "Python 3",
      "language": "python",
      "name": "python3"
    },
    "language_info": {
      "codemirror_mode": {
        "name": "ipython",
        "version": 3
      },
      "file_extension": ".py",
      "mimetype": "text/x-python",
      "name": "python",
      "nbconvert_exporter": "python",
      "pygments_lexer": "ipython3",
      "version": "3.8.5"
    },
    "colab": {
      "name": "4_lstm_word_embedding.ipynb",
      "provenance": [],
      "collapsed_sections": []
    },
    "accelerator": "GPU"
  },
  "cells": [
    {
      "cell_type": "markdown",
      "metadata": {
        "id": "x7YgkDphqvWR"
      },
      "source": [
        "# LSTM classifier with word embedding representation"
      ]
    },
    {
      "cell_type": "code",
      "metadata": {
        "id": "Hdd5W_d6rxtj",
        "colab": {
          "base_uri": "https://localhost:8080/"
        },
        "outputId": "6d92cfa5-bf36-4612-d9a9-b86b6d65475c"
      },
      "source": [
        "# If running on Google Colab, upload the supporting files to google drive\n",
        "# then run this to import them\n",
        "try:\n",
        "  from google.colab import drive\n",
        "  drive.mount('/content/drive')\n",
        "  !cp 'drive/My Drive/Colab/__init__.py' .\n",
        "  !cp 'drive/My Drive/Colab/config.py' .\n",
        "  !cp 'drive/My Drive/Colab/helper.py' .\n",
        "  !cp 'drive/My Drive/Colab/train.pickle' .\n",
        "except:\n",
        "  pass"
      ],
      "execution_count": 10,
      "outputs": [
        {
          "output_type": "stream",
          "text": [
            "Drive already mounted at /content/drive; to attempt to forcibly remount, call drive.mount(\"/content/drive\", force_remount=True).\n"
          ],
          "name": "stdout"
        }
      ]
    },
    {
      "cell_type": "code",
      "metadata": {
        "id": "YoUcy6syqvWS",
        "colab": {
          "base_uri": "https://localhost:8080/"
        },
        "outputId": "8ab626f1-aa2e-4139-feba-ca75780ff046"
      },
      "source": [
        "import numpy as np\n",
        "from sklearn.metrics import roc_auc_score\n",
        "\n",
        "import torch\n",
        "from torch import nn\n",
        "from torch.nn.utils.rnn import (pad_sequence,\n",
        "                                pack_padded_sequence,\n",
        "                                pad_packed_sequence)\n",
        "import torch.nn.functional as F\n",
        "import spacy\n",
        "spacy.cli.download('en_core_web_md')\n",
        "nlp = spacy.load('en_core_web_md')\n",
        "import matplotlib.pyplot as plt\n",
        "\n",
        "from helper import load_data\n",
        "\n",
        "assert torch.cuda.is_available(), \"Training the model on CPU will take a long time!\"\n",
        "device = torch.device('cuda:0')"
      ],
      "execution_count": 11,
      "outputs": [
        {
          "output_type": "stream",
          "text": [
            "\u001b[38;5;2m✔ Download and installation successful\u001b[0m\n",
            "You can now load the model via spacy.load('en_core_web_md')\n"
          ],
          "name": "stdout"
        }
      ]
    },
    {
      "cell_type": "code",
      "metadata": {
        "id": "-0B05PQ9qvWS"
      },
      "source": [
        "x_train, x_validation, x_test, y_train, y_validation, y_test = load_data()\n",
        "\n",
        "N_CLASSES = y_train.columns.size\n",
        "BATCH_SIZE = 8"
      ],
      "execution_count": 12,
      "outputs": []
    },
    {
      "cell_type": "code",
      "metadata": {
        "id": "Z1ms8XedqvWS"
      },
      "source": [
        "def text2tensor(text):\n",
        "    doc = nlp(text)\n",
        "    tokens = [token.vector for token in doc if token.is_alpha]\n",
        "    if len(tokens) < 10:\n",
        "        tokens = [token.vector for token in doc]\n",
        "    return torch.Tensor(np.vstack(tokens)).to(device)"
      ],
      "execution_count": 13,
      "outputs": []
    },
    {
      "cell_type": "code",
      "metadata": {
        "id": "-UAYMqgeqvWS"
      },
      "source": [
        "def batch_pad_pack_train(corpus, batch_size=64):\n",
        "    groups = np.arange(len(corpus)) // batch_size\n",
        "    batched = corpus.groupby(groups)\n",
        "\n",
        "    tensors = []\n",
        "    for i, text_batch in batched:\n",
        "        batched_tensors = [text2tensor(text) for text in text_batch]\n",
        "        padded = pad_sequence(batched_tensors, batch_first=True)\n",
        "        packed = pack_padded_sequence(\n",
        "            padded,\n",
        "            lengths=[tensor.shape[0] for tensor in batched_tensors],\n",
        "            batch_first=True,\n",
        "            enforce_sorted=False)\n",
        "        tensors.append(packed)\n",
        "\n",
        "    return tensors\n",
        "\n",
        "def batch_labels(labels, batch_size=64):\n",
        "    out = []\n",
        "    for _, df in labels.groupby(np.arange(len(labels)) // batch_size):\n",
        "        out.append(torch.Tensor(df.values).to(device))\n",
        "    return out"
      ],
      "execution_count": 14,
      "outputs": []
    },
    {
      "cell_type": "code",
      "metadata": {
        "id": "Zavg1lXxqvWS"
      },
      "source": [
        "x_train_tensors = batch_pad_pack_train(x_train, BATCH_SIZE)\n",
        "y_train_tensors = batch_labels(y_train, BATCH_SIZE)\n",
        "\n",
        "x_validation_tensors = batch_pad_pack_train(x_validation, BATCH_SIZE)"
      ],
      "execution_count": 15,
      "outputs": []
    },
    {
      "cell_type": "code",
      "metadata": {
        "id": "S6uog8fjqvWS"
      },
      "source": [
        "class Model(nn.Module):\n",
        "    EMBEDDING_DIM = 300\n",
        "    LSTM_HIDDEN_SIZE_1 = 128\n",
        "\n",
        "    def __init__(self, n_classes):\n",
        "        super(Model, self).__init__()\n",
        "        self.batchnorm = nn.BatchNorm1d(Model.LSTM_HIDDEN_SIZE_1)\n",
        "        self.lstm_1 = nn.LSTM(input_size=Model.EMBEDDING_DIM,\n",
        "                              hidden_size=Model.LSTM_HIDDEN_SIZE_1,\n",
        "                              batch_first=True)\n",
        "        self.dense_1 = nn.Linear(in_features=Model.LSTM_HIDDEN_SIZE_1,\n",
        "                                 out_features=n_classes)\n",
        "    \n",
        "    def forward(self, embeddings):\n",
        "        lstm_1_out_packed, _ = self.lstm_1(embeddings)\n",
        "\n",
        "        # Get last output from a padded sequence of outputs\n",
        "        lstm_padded, seq_lens = pad_packed_sequence(lstm_1_out_packed, batch_first=True)\n",
        "        lstm_last_out = lstm_padded[range(lstm_padded.shape[0]), seq_lens - 1, :]\n",
        "        batchnorm_out = self.batchnorm(lstm_last_out)\n",
        "\n",
        "        dense_out_1 = self.dense_1(batchnorm_out)\n",
        "        return torch.sigmoid(dense_out_1)"
      ],
      "execution_count": 16,
      "outputs": []
    },
    {
      "cell_type": "code",
      "metadata": {
        "id": "cUhkrPymqvWS"
      },
      "source": [
        "def inference_score(model, x, y, average='macro'):\n",
        "    \"\"\"\n",
        "    @param x - list of PyTorch's PackedSequence\n",
        "    @param y - numpy ndarray (n_samples, n_classes)\n",
        "    @return ROC AUC score\n",
        "    \"\"\"\n",
        "    batch_size = x[0].sorted_indices.shape[0]\n",
        "    y_pred = torch.zeros(y.shape, dtype=torch.float32, device=device)\n",
        "    with torch.no_grad():\n",
        "        for i, batch in enumerate(x):\n",
        "            pred_i = model(batch)\n",
        "            y_pred[i * batch_size : i * batch_size + pred_i.shape[0]] = pred_i\n",
        "\n",
        "    return roc_auc_score(y, y_pred.cpu(), average=average)"
      ],
      "execution_count": 17,
      "outputs": []
    },
    {
      "cell_type": "code",
      "metadata": {
        "id": "SFuQQVyvqvWS",
        "colab": {
          "base_uri": "https://localhost:8080/"
        },
        "outputId": "c21b9e4a-357d-44d4-9ed7-99c85ee2307a"
      },
      "source": [
        "N_EPOCHS = 20\n",
        "model = Model(N_CLASSES).to(device)\n",
        "optimizer = torch.optim.AdamW(model.parameters(), lr=0.001)\n",
        "criterion = nn.BCELoss()\n",
        "\n",
        "training_scores = []\n",
        "validation_scores = []\n",
        "\n",
        "for epoch in range(N_EPOCHS):\n",
        "    epoch_loss = 0.0\n",
        "    for text_embedding, ground_truth in zip(x_train_tensors, y_train_tensors):\n",
        "        optimizer.zero_grad()\n",
        "        output = model(text_embedding)\n",
        "        loss = criterion(output, ground_truth)\n",
        "        loss.backward()\n",
        "        optimizer.step()\n",
        "\n",
        "        epoch_loss += loss.item()\n",
        "\n",
        "    train_score = inference_score(model, x_train_tensors, y_train)\n",
        "    validation_score = inference_score(model, x_validation_tensors, y_validation)\n",
        "    print('Epoch [{}/{}] | loss: {:.5f}'.format(\n",
        "          epoch + 1, N_EPOCHS,\n",
        "          epoch_loss / len(x_train_tensors)))\n",
        "    print('ROC AUC score - train: {:.5f}, validation: {:.5f}\\n'.format(\n",
        "          train_score, validation_score))\n",
        "    training_scores.append(train_score)\n",
        "    validation_scores.append(validation_score)"
      ],
      "execution_count": 18,
      "outputs": [
        {
          "output_type": "stream",
          "text": [
            "Epoch [1/20] | loss: 0.33483\n",
            "ROC AUC score - train: 0.93910, validation: 0.91207\n",
            "\n",
            "Epoch [2/20] | loss: 0.21628\n",
            "ROC AUC score - train: 0.96387, validation: 0.93724\n",
            "\n",
            "Epoch [3/20] | loss: 0.21445\n",
            "ROC AUC score - train: 0.95403, validation: 0.92583\n",
            "\n",
            "Epoch [4/20] | loss: 0.18229\n",
            "ROC AUC score - train: 0.96982, validation: 0.94444\n",
            "\n",
            "Epoch [5/20] | loss: 0.16297\n",
            "ROC AUC score - train: 0.98011, validation: 0.94690\n",
            "\n",
            "Epoch [6/20] | loss: 0.13689\n",
            "ROC AUC score - train: 0.98607, validation: 0.94989\n",
            "\n",
            "Epoch [7/20] | loss: 0.13092\n",
            "ROC AUC score - train: 0.98819, validation: 0.94378\n",
            "\n",
            "Epoch [8/20] | loss: 0.10466\n",
            "ROC AUC score - train: 0.99200, validation: 0.94427\n",
            "\n",
            "Epoch [9/20] | loss: 0.08457\n",
            "ROC AUC score - train: 0.99524, validation: 0.94733\n",
            "\n",
            "Epoch [10/20] | loss: 0.06834\n",
            "ROC AUC score - train: 0.99735, validation: 0.94459\n",
            "\n",
            "Epoch [11/20] | loss: 0.05532\n",
            "ROC AUC score - train: 0.99659, validation: 0.94703\n",
            "\n",
            "Epoch [12/20] | loss: 0.06014\n",
            "ROC AUC score - train: 0.99813, validation: 0.94431\n",
            "\n",
            "Epoch [13/20] | loss: 0.03522\n",
            "ROC AUC score - train: 0.99931, validation: 0.93977\n",
            "\n",
            "Epoch [14/20] | loss: 0.02338\n",
            "ROC AUC score - train: 0.99953, validation: 0.94049\n",
            "\n",
            "Epoch [15/20] | loss: 0.01730\n",
            "ROC AUC score - train: 0.99971, validation: 0.94072\n",
            "\n",
            "Epoch [16/20] | loss: 0.01564\n",
            "ROC AUC score - train: 0.99956, validation: 0.93487\n",
            "\n",
            "Epoch [17/20] | loss: 0.02619\n",
            "ROC AUC score - train: 0.99948, validation: 0.93595\n",
            "\n",
            "Epoch [18/20] | loss: 0.02135\n",
            "ROC AUC score - train: 0.99965, validation: 0.93722\n",
            "\n",
            "Epoch [19/20] | loss: 0.01048\n",
            "ROC AUC score - train: 0.99993, validation: 0.93644\n",
            "\n",
            "Epoch [20/20] | loss: 0.00568\n",
            "ROC AUC score - train: 0.99995, validation: 0.93373\n",
            "\n"
          ],
          "name": "stdout"
        }
      ]
    },
    {
      "cell_type": "code",
      "metadata": {
        "colab": {
          "base_uri": "https://localhost:8080/",
          "height": 282
        },
        "id": "CF8xvaQKD55W",
        "outputId": "09dc37dd-8788-4257-af66-23c586e2bbfe"
      },
      "source": [
        "plt.plot(range(len(training_scores)), training_scores)\n",
        "plt.plot(range(len(validation_scores)), validation_scores)"
      ],
      "execution_count": 19,
      "outputs": [
        {
          "output_type": "execute_result",
          "data": {
            "text/plain": [
              "[<matplotlib.lines.Line2D at 0x7f64ee9494e0>]"
            ]
          },
          "metadata": {
            "tags": []
          },
          "execution_count": 19
        },
        {
          "output_type": "display_data",
          "data": {
            "image/png": "[encoded data removed]",
            "text/plain": [
              "<Figure size 432x288 with 1 Axes>"
            ]
          },
          "metadata": {
            "tags": [],
            "needs_background": "light"
          }
        }
      ]
    },
    {
      "cell_type": "markdown",
      "metadata": {
        "id": "rx1MnHOVqvWT"
      },
      "source": [
        "## Model performance evaluation"
      ]
    },
    {
      "cell_type": "markdown",
      "metadata": {
        "id": "8urHxn12qvWT"
      },
      "source": [
        "x_test_tensors = corpus2tensors(x_test)"
      ]
    },
    {
      "cell_type": "markdown",
      "metadata": {
        "id": "Z_p3mztgqvWT"
      },
      "source": [
        "test_score = inference_score(x_test_tensors, y_test)\n",
        "print('Test ROC AUC:', test_score)"
      ]
    }
  ]
}