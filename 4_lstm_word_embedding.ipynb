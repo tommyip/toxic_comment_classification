{
  "nbformat": 4,
  "nbformat_minor": 0,
  "metadata": {
    "kernelspec": {
      "display_name": "Python 3",
      "language": "python",
      "name": "python3"
    },
    "language_info": {
      "codemirror_mode": {
        "name": "ipython",
        "version": 3
      },
      "file_extension": ".py",
      "mimetype": "text/x-python",
      "name": "python",
      "nbconvert_exporter": "python",
      "pygments_lexer": "ipython3",
      "version": "3.8.5"
    },
    "colab": {
      "name": "4_lstm_word_embedding.ipynb",
      "provenance": [],
      "collapsed_sections": []
    },
    "accelerator": "GPU"
  },
  "cells": [
    {
      "cell_type": "markdown",
      "metadata": {
        "id": "x7YgkDphqvWR"
      },
      "source": [
        "# LSTM classifier with word embedding representation"
      ]
    },
    {
      "cell_type": "code",
      "metadata": {
        "id": "Hdd5W_d6rxtj",
        "colab": {
          "base_uri": "https://localhost:8080/"
        },
        "outputId": "ae3e794e-d901-4ad2-8e71-018a9653d972"
      },
      "source": [
        "# If running on Google Colab, upload the supporting files to google drive\n",
        "# then run this to import them\n",
        "try:\n",
        "  from google.colab import drive\n",
        "  drive.mount('/content/drive')\n",
        "  !cp 'drive/My Drive/Colab/__init__.py' .\n",
        "  !cp 'drive/My Drive/Colab/config.py' .\n",
        "  !cp 'drive/My Drive/Colab/helper.py' .\n",
        "  !cp 'drive/My Drive/Colab/train.pickle' .\n",
        "except:\n",
        "  pass"
      ],
      "execution_count": 1,
      "outputs": [
        {
          "output_type": "stream",
          "text": [
            "Drive already mounted at /content/drive; to attempt to forcibly remount, call drive.mount(\"/content/drive\", force_remount=True).\n"
          ],
          "name": "stdout"
        }
      ]
    },
    {
      "cell_type": "code",
      "metadata": {
        "id": "YoUcy6syqvWS",
        "colab": {
          "base_uri": "https://localhost:8080/"
        },
        "outputId": "79819d74-0e94-49e8-ef75-14283e07a0ba"
      },
      "source": [
        "import numpy as np\n",
        "from sklearn.metrics import roc_auc_score\n",
        "\n",
        "import torch\n",
        "from torch import nn\n",
        "from torch.nn.utils.rnn import (pad_sequence,\n",
        "                                pack_padded_sequence,\n",
        "                                pad_packed_sequence)\n",
        "import torch.nn.functional as F\n",
        "import spacy\n",
        "spacy.cli.download('en_core_web_lg')\n",
        "nlp = spacy.load('en_core_web_lg')\n",
        "import matplotlib.pyplot as plt\n",
        "\n",
        "from helper import load_data\n",
        "\n",
        "assert torch.cuda.is_available(), \"Training the model on CPU will take a long time!\"\n",
        "device = torch.device('cuda:0')"
      ],
      "execution_count": 2,
      "outputs": [
        {
          "output_type": "stream",
          "text": [
            "\u001b[38;5;2m✔ Download and installation successful\u001b[0m\n",
            "You can now load the model via spacy.load('en_core_web_lg')\n"
          ],
          "name": "stdout"
        }
      ]
    },
    {
      "cell_type": "code",
      "metadata": {
        "id": "-0B05PQ9qvWS"
      },
      "source": [
        "x_train, x_validation, x_test, y_train, y_validation, y_test = load_data()\n",
        "\n",
        "N_CLASSES = y_train.columns.size\n",
        "BATCH_SIZE = 4"
      ],
      "execution_count": 3,
      "outputs": []
    },
    {
      "cell_type": "code",
      "metadata": {
        "id": "Z1ms8XedqvWS"
      },
      "source": [
        "def text2tensor(text):\n",
        "    doc = nlp(text)\n",
        "    tokens = [token.vector for token in doc if token.is_alpha]\n",
        "    if len(tokens) < 10:\n",
        "        tokens = [token.vector for token in doc]\n",
        "    return torch.Tensor(np.vstack(tokens)).to(device)"
      ],
      "execution_count": 4,
      "outputs": []
    },
    {
      "cell_type": "code",
      "metadata": {
        "id": "-UAYMqgeqvWS"
      },
      "source": [
        "def batch_pad_pack_train(corpus, batch_size=64):\n",
        "    groups = np.arange(len(corpus)) // batch_size\n",
        "    batched = corpus.groupby(groups)\n",
        "\n",
        "    tensors = []\n",
        "    for i, text_batch in batched:\n",
        "        batched_tensors = [text2tensor(text) for text in text_batch]\n",
        "        padded = pad_sequence(batched_tensors, batch_first=True)\n",
        "        packed = pack_padded_sequence(\n",
        "            padded,\n",
        "            lengths=[tensor.shape[0] for tensor in batched_tensors],\n",
        "            batch_first=True,\n",
        "            enforce_sorted=False)\n",
        "        tensors.append(packed)\n",
        "\n",
        "    return tensors\n",
        "\n",
        "def batch_labels(labels, batch_size=64):\n",
        "    out = []\n",
        "    for _, df in labels.groupby(np.arange(len(labels)) // batch_size):\n",
        "        out.append(torch.Tensor(df.values).to(device))\n",
        "    return out"
      ],
      "execution_count": 5,
      "outputs": []
    },
    {
      "cell_type": "code",
      "metadata": {
        "id": "Zavg1lXxqvWS"
      },
      "source": [
        "x_train_tensors = batch_pad_pack_train(x_train, BATCH_SIZE)\n",
        "y_train_tensors = batch_labels(y_train, BATCH_SIZE)\n",
        "\n",
        "x_validation_tensors = batch_pad_pack_train(x_validation, BATCH_SIZE)"
      ],
      "execution_count": 6,
      "outputs": []
    },
    {
      "cell_type": "code",
      "metadata": {
        "id": "S6uog8fjqvWS"
      },
      "source": [
        "class Model(nn.Module):\n",
        "    EMBEDDING_DIM = 300\n",
        "    LSTM_HIDDEN_SIZE = 128\n",
        "    DENSE_SIZE = 32\n",
        "\n",
        "    def __init__(self, n_classes):\n",
        "        super(Model, self).__init__()\n",
        "        self.batchnorm = nn.BatchNorm1d(Model.LSTM_HIDDEN_SIZE)\n",
        "        self.lstm_1 = nn.LSTM(input_size=Model.EMBEDDING_DIM,\n",
        "                              hidden_size=Model.LSTM_HIDDEN_SIZE,\n",
        "                              batch_first=True)\n",
        "        self.dense_1 = nn.Linear(in_features=Model.LSTM_HIDDEN_SIZE,\n",
        "                                 out_features=Model.DENSE_SIZE)\n",
        "        self.dense_2 = nn.Linear(in_features=Model.DENSE_SIZE,\n",
        "                                 out_features=n_classes)\n",
        "        self.dropout = nn.Dropout()\n",
        "    \n",
        "    def forward(self, embeddings):\n",
        "        lstm_1_out_packed, _ = self.lstm_1(embeddings)\n",
        "\n",
        "        # Get last output from a padded sequence of outputs\n",
        "        lstm_padded, seq_lens = pad_packed_sequence(lstm_1_out_packed, batch_first=True)\n",
        "        lstm_last_out = lstm_padded[range(lstm_padded.shape[0]), seq_lens - 1, :]\n",
        "\n",
        "        dense_out_1 = self.dense_1(lstm_last_out)\n",
        "        dense_out_2 = self.dense_2(self.dropout(dense_out_1))\n",
        "        return torch.sigmoid(dense_out_2)"
      ],
      "execution_count": 7,
      "outputs": []
    },
    {
      "cell_type": "code",
      "metadata": {
        "id": "cUhkrPymqvWS"
      },
      "source": [
        "def inference_score(model, x, y, average='macro'):\n",
        "    \"\"\"\n",
        "    @param x - list of PyTorch's PackedSequence\n",
        "    @param y - numpy ndarray (n_samples, n_classes)\n",
        "    @return ROC AUC score\n",
        "    \"\"\"\n",
        "    batch_size = x[0].sorted_indices.shape[0]\n",
        "    y_pred = torch.zeros(y.shape, dtype=torch.float32, device=device)\n",
        "    with torch.no_grad():\n",
        "        for i, batch in enumerate(x):\n",
        "            pred_i = model(batch)\n",
        "            y_pred[i * batch_size : i * batch_size + pred_i.shape[0]] = pred_i\n",
        "\n",
        "    return roc_auc_score(y, y_pred.cpu(), average=average)"
      ],
      "execution_count": 8,
      "outputs": []
    },
    {
      "cell_type": "code",
      "metadata": {
        "id": "SFuQQVyvqvWS",
        "colab": {
          "base_uri": "https://localhost:8080/"
        },
        "outputId": "e706f80c-6b65-44b1-f157-cfeb7ddc99c8"
      },
      "source": [
        "N_EPOCHS = 10\n",
        "model = Model(N_CLASSES).to(device)\n",
        "optimizer = torch.optim.AdamW(model.parameters(), lr=0.001)\n",
        "criterion = nn.BCELoss()\n",
        "\n",
        "training_scores = []\n",
        "validation_scores = []\n",
        "\n",
        "for epoch in range(N_EPOCHS):\n",
        "    epoch_loss = 0.0\n",
        "    for text_embedding, ground_truth in zip(x_train_tensors, y_train_tensors):\n",
        "        optimizer.zero_grad()\n",
        "        output = model(text_embedding)\n",
        "        loss = criterion(output, ground_truth)\n",
        "        loss.backward()\n",
        "        optimizer.step()\n",
        "\n",
        "        epoch_loss += loss.item()\n",
        "\n",
        "    train_score = inference_score(model, x_train_tensors, y_train)\n",
        "    validation_score = inference_score(model, x_validation_tensors, y_validation)\n",
        "    print('Epoch [{}/{}] | loss: {:.5f}'.format(\n",
        "          epoch + 1, N_EPOCHS,\n",
        "          epoch_loss / len(x_train_tensors)))\n",
        "    print('ROC AUC score - train: {:.5f}, validation: {:.5f}\\n'.format(\n",
        "          train_score, validation_score))\n",
        "    training_scores.append(train_score)\n",
        "    validation_scores.append(validation_score)"
      ],
      "execution_count": 9,
      "outputs": [
        {
          "output_type": "stream",
          "text": [
            "Epoch [1/10] | loss: 0.27145\n",
            "ROC AUC score - train: 0.93174, validation: 0.91887\n",
            "\n",
            "Epoch [2/10] | loss: 0.23962\n",
            "ROC AUC score - train: 0.91598, validation: 0.89971\n",
            "\n",
            "Epoch [3/10] | loss: 0.21305\n",
            "ROC AUC score - train: 0.94776, validation: 0.93400\n",
            "\n",
            "Epoch [4/10] | loss: 0.17484\n",
            "ROC AUC score - train: 0.96808, validation: 0.95359\n",
            "\n",
            "Epoch [5/10] | loss: 0.15345\n",
            "ROC AUC score - train: 0.96889, validation: 0.95380\n",
            "\n",
            "Epoch [6/10] | loss: 0.14455\n",
            "ROC AUC score - train: 0.98199, validation: 0.96491\n",
            "\n",
            "Epoch [7/10] | loss: 0.12920\n",
            "ROC AUC score - train: 0.98609, validation: 0.96551\n",
            "\n",
            "Epoch [8/10] | loss: 0.11399\n",
            "ROC AUC score - train: 0.98771, validation: 0.96779\n",
            "\n",
            "Epoch [9/10] | loss: 0.10924\n",
            "ROC AUC score - train: 0.98961, validation: 0.96835\n",
            "\n",
            "Epoch [10/10] | loss: 0.09667\n",
            "ROC AUC score - train: 0.99309, validation: 0.96952\n",
            "\n"
          ],
          "name": "stdout"
        }
      ]
    },
    {
      "cell_type": "code",
      "metadata": {
        "colab": {
          "base_uri": "https://localhost:8080/",
          "height": 282
        },
        "id": "CF8xvaQKD55W",
        "outputId": "72acb042-9f2a-449c-d84a-ee80751f2e0c"
      },
      "source": [
        "plt.plot(range(len(training_scores)), training_scores)\n",
        "plt.plot(range(len(validation_scores)), validation_scores)"
      ],
      "execution_count": 10,
      "outputs": [
        {
          "output_type": "execute_result",
          "data": {
            "text/plain": [
              "[<matplotlib.lines.Line2D at 0x7f361b614f28>]"
            ]
          },
          "metadata": {
            "tags": []
          },
          "execution_count": 10
        },
        {
          "output_type": "display_data",
          "data": {
            "image/png": "[encoded data removed]",
            "text/plain": [
              "<Figure size 432x288 with 1 Axes>"
            ]
          },
          "metadata": {
            "tags": [],
            "needs_background": "light"
          }
        }
      ]
    },
    {
      "cell_type": "markdown",
      "metadata": {
        "id": "rx1MnHOVqvWT"
      },
      "source": [
        "## Model performance evaluation"
      ]
    },
    {
      "cell_type": "code",
      "metadata": {
        "id": "ccinuUFjHPGE"
      },
      "source": [
        "x_test_tensors = batch_pad_pack_train(x_test, BATCH_SIZE)"
      ],
      "execution_count": 11,
      "outputs": []
    },
    {
      "cell_type": "code",
      "metadata": {
        "colab": {
          "base_uri": "https://localhost:8080/"
        },
        "id": "YcslNUZWLR40",
        "outputId": "676057d4-5b58-4874-ed5c-5792815b47b7"
      },
      "source": [
        "inference_score(model, x_test_tensors, y_test)"
      ],
      "execution_count": 12,
      "outputs": [
        {
          "output_type": "execute_result",
          "data": {
            "text/plain": [
              "0.9686351828184718"
            ]
          },
          "metadata": {
            "tags": []
          },
          "execution_count": 12
        }
      ]
    }
  ]
}