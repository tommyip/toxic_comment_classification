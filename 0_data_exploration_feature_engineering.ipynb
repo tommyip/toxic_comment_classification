{
 "cells": [
  {
   "cell_type": "markdown",
   "metadata": {},
   "source": [
    "# Data exploration & feature engineering"
   ]
  },
  {
   "cell_type": "code",
   "execution_count": 1,
   "metadata": {},
   "outputs": [],
   "source": [
    "from collections import Counter\n",
    "import pickle\n",
    "\n",
    "import numpy as np\n",
    "import pandas as pd\n",
    "import matplotlib.pyplot as plt\n",
    "\n",
    "import spacy\n",
    "nlp = spacy.load('en_core_web_md')\n",
    "\n",
    "from config import TRAIN_SIZE, VALIDATION_SIZE, TEST_SIZE, N_GRAM\n",
    "from helper import load_data\n",
    "\n",
    "pd.set_option('max_colwidth', 120)"
   ]
  },
  {
   "cell_type": "code",
   "execution_count": 2,
   "metadata": {},
   "outputs": [],
   "source": [
    "df = pd.read_csv('data/train.csv')"
   ]
  },
  {
   "cell_type": "code",
   "execution_count": 3,
   "metadata": {},
   "outputs": [
    {
     "data": {
      "text/html": [
       "<div>\n",
       "<style scoped>\n",
       "    .dataframe tbody tr th:only-of-type {\n",
       "        vertical-align: middle;\n",
       "    }\n",
       "\n",
       "    .dataframe tbody tr th {\n",
       "        vertical-align: top;\n",
       "    }\n",
       "\n",
       "    .dataframe thead th {\n",
       "        text-align: right;\n",
       "    }\n",
       "</style>\n",
       "<table border=\"1\" class=\"dataframe\">\n",
       "  <thead>\n",
       "    <tr style=\"text-align: right;\">\n",
       "      <th></th>\n",
       "      <th>id</th>\n",
       "      <th>comment_text</th>\n",
       "      <th>toxic</th>\n",
       "      <th>severe_toxic</th>\n",
       "      <th>obscene</th>\n",
       "      <th>threat</th>\n",
       "      <th>insult</th>\n",
       "      <th>identity_hate</th>\n",
       "    </tr>\n",
       "  </thead>\n",
       "  <tbody>\n",
       "    <tr>\n",
       "      <th>0</th>\n",
       "      <td>0000997932d777bf</td>\n",
       "      <td>Explanation\\nWhy the edits made under my username Hardcore Metallica Fan were reverted? They weren't vandalisms, jus...</td>\n",
       "      <td>0</td>\n",
       "      <td>0</td>\n",
       "      <td>0</td>\n",
       "      <td>0</td>\n",
       "      <td>0</td>\n",
       "      <td>0</td>\n",
       "    </tr>\n",
       "    <tr>\n",
       "      <th>1</th>\n",
       "      <td>000103f0d9cfb60f</td>\n",
       "      <td>D'aww! He matches this background colour I'm seemingly stuck with. Thanks.  (talk) 21:51, January 11, 2016 (UTC)</td>\n",
       "      <td>0</td>\n",
       "      <td>0</td>\n",
       "      <td>0</td>\n",
       "      <td>0</td>\n",
       "      <td>0</td>\n",
       "      <td>0</td>\n",
       "    </tr>\n",
       "    <tr>\n",
       "      <th>2</th>\n",
       "      <td>000113f07ec002fd</td>\n",
       "      <td>Hey man, I'm really not trying to edit war. It's just that this guy is constantly removing relevant information and ...</td>\n",
       "      <td>0</td>\n",
       "      <td>0</td>\n",
       "      <td>0</td>\n",
       "      <td>0</td>\n",
       "      <td>0</td>\n",
       "      <td>0</td>\n",
       "    </tr>\n",
       "    <tr>\n",
       "      <th>3</th>\n",
       "      <td>0001b41b1c6bb37e</td>\n",
       "      <td>\"\\nMore\\nI can't make any real suggestions on improvement - I wondered if the section statistics should be later on,...</td>\n",
       "      <td>0</td>\n",
       "      <td>0</td>\n",
       "      <td>0</td>\n",
       "      <td>0</td>\n",
       "      <td>0</td>\n",
       "      <td>0</td>\n",
       "    </tr>\n",
       "    <tr>\n",
       "      <th>4</th>\n",
       "      <td>0001d958c54c6e35</td>\n",
       "      <td>You, sir, are my hero. Any chance you remember what page that's on?</td>\n",
       "      <td>0</td>\n",
       "      <td>0</td>\n",
       "      <td>0</td>\n",
       "      <td>0</td>\n",
       "      <td>0</td>\n",
       "      <td>0</td>\n",
       "    </tr>\n",
       "  </tbody>\n",
       "</table>\n",
       "</div>"
      ],
      "text/plain": [
       "                 id  \\\n",
       "0  0000997932d777bf   \n",
       "1  000103f0d9cfb60f   \n",
       "2  000113f07ec002fd   \n",
       "3  0001b41b1c6bb37e   \n",
       "4  0001d958c54c6e35   \n",
       "\n",
       "                                                                                                              comment_text  \\\n",
       "0  Explanation\\nWhy the edits made under my username Hardcore Metallica Fan were reverted? They weren't vandalisms, jus...   \n",
       "1         D'aww! He matches this background colour I'm seemingly stuck with. Thanks.  (talk) 21:51, January 11, 2016 (UTC)   \n",
       "2  Hey man, I'm really not trying to edit war. It's just that this guy is constantly removing relevant information and ...   \n",
       "3  \"\\nMore\\nI can't make any real suggestions on improvement - I wondered if the section statistics should be later on,...   \n",
       "4                                                      You, sir, are my hero. Any chance you remember what page that's on?   \n",
       "\n",
       "   toxic  severe_toxic  obscene  threat  insult  identity_hate  \n",
       "0      0             0        0       0       0              0  \n",
       "1      0             0        0       0       0              0  \n",
       "2      0             0        0       0       0              0  \n",
       "3      0             0        0       0       0              0  \n",
       "4      0             0        0       0       0              0  "
      ]
     },
     "execution_count": 3,
     "metadata": {},
     "output_type": "execute_result"
    }
   ],
   "source": [
    "df.head()"
   ]
  },
  {
   "cell_type": "markdown",
   "metadata": {},
   "source": [
    "## Data distribution"
   ]
  },
  {
   "cell_type": "code",
   "execution_count": 4,
   "metadata": {},
   "outputs": [
    {
     "name": "stdout",
     "output_type": "stream",
     "text": [
      "[15294, 1595, 8449, 478, 7877, 1405, 143346]\n"
     ]
    },
    {
     "data": {
      "text/plain": [
       "<BarContainer object of 6 artists>"
      ]
     },
     "execution_count": 4,
     "metadata": {},
     "output_type": "execute_result"
    },
    {
     "data": {
      "image/png": "[encoded data removed]",
      "text/plain": [
       "<Figure size 720x504 with 1 Axes>"
      ]
     },
     "metadata": {
      "needs_background": "light"
     },
     "output_type": "display_data"
    }
   ],
   "source": [
    "labels = df.columns[2:]\n",
    "freqs = df[labels].sum(axis=0)\n",
    "\n",
    "non_toxic = df[labels].sum(axis=1) == 0\n",
    "\n",
    "# Frequencies including non-toxic comments\n",
    "print(list(freqs) + [non_toxic.sum()])\n",
    "\n",
    "plt.figure(figsize=(10, 7))\n",
    "plt.bar(labels, freqs)"
   ]
  },
  {
   "cell_type": "markdown",
   "metadata": {},
   "source": [
    "### Resampling dataset\n",
    "\n",
    "As shown above the dataset is highly unbalanced. Unfortunately, since the labels are correlated there are no simple algorithms to rebalance the dataset to equal number of instances per label. We can convert it to a multi-class problem then rebalance it but there are a total of 40 unique combinations of labels, and we don't have enough data to fit each combination. So instead we will just attempt to rebalance it manually as best as we can."
   ]
  },
  {
   "cell_type": "code",
   "execution_count": 5,
   "metadata": {},
   "outputs": [],
   "source": [
    "df_all = df.assign(non_toxic=non_toxic.astype(np.int))\n",
    "X_, Y_ = df['comment_text'], df[df.columns[2:]]\n",
    "Y = pd.DataFrame(columns=df.columns[2:], index=Y_.index)"
   ]
  },
  {
   "cell_type": "code",
   "execution_count": 6,
   "metadata": {},
   "outputs": [
    {
     "data": {
      "text/plain": [
       "toxic            2400.0\n",
       "severe_toxic     1271.0\n",
       "obscene          1992.0\n",
       "threat            478.0\n",
       "insult           1995.0\n",
       "identity_hate    1264.0\n",
       "dtype: float64"
      ]
     },
     "execution_count": 6,
     "metadata": {},
     "output_type": "execute_result"
    }
   ],
   "source": [
    "# The threat labels contains only 478 instances so we use them all\n",
    "Y = Y.combine_first(Y_[Y_['threat'] == 1])\n",
    "Y = Y.combine_first(Y_[(Y_['identity_hate'] == 1) & (Y_['toxic'] == 0)])\n",
    "Y = Y.combine_first(Y_[Y_['severe_toxic'] == 1].sample(n=1200, random_state=42))\n",
    "Y = Y.combine_first(Y_[Y_['identity_hate'] == 1].sample(n=1200, random_state=42))\n",
    "rebalanced_freqs = Y.sum(axis=0)\n",
    "rebalanced_freqs"
   ]
  },
  {
   "cell_type": "code",
   "execution_count": 7,
   "metadata": {},
   "outputs": [
    {
     "data": {
      "text/plain": [
       "<BarContainer object of 6 artists>"
      ]
     },
     "execution_count": 7,
     "metadata": {},
     "output_type": "execute_result"
    },
    {
     "data": {
      "image/png": "[encoded data removed]",
      "text/plain": [
       "<Figure size 1080x504 with 2 Axes>"
      ]
     },
     "metadata": {
      "needs_background": "light"
     },
     "output_type": "display_data"
    }
   ],
   "source": [
    "fig, (ax1, ax2) = plt.subplots(1, 2, figsize=(15, 7))\n",
    "ax1.title.set_text('Original dataset')\n",
    "ax1.bar(labels, freqs)\n",
    "ax2.title.set_text('Resampled dataset')\n",
    "ax2.bar(labels, rebalanced_freqs)"
   ]
  },
  {
   "cell_type": "code",
   "execution_count": 8,
   "metadata": {},
   "outputs": [],
   "source": [
    "# Sample non toxic instances for the rest of the dataset\n",
    "n_toxic = Y.dropna().shape[0]\n",
    "n_target_total = TRAIN_SIZE + VALIDATION_SIZE + TEST_SIZE\n",
    "non_toxic = Y_[Y_.sum(axis=1) == 0].sample(n=n_target_total - n_toxic, random_state=42)\n",
    "Y = Y.combine_first(non_toxic)\n",
    "Y.dropna(inplace=True)\n",
    "X = X_[Y.index]"
   ]
  },
  {
   "cell_type": "code",
   "execution_count": 28,
   "metadata": {},
   "outputs": [],
   "source": [
    "# Construct new (less imbalanced) dataset and serialize to disk\n",
    "dataset = pd.DataFrame(data=X).merge(Y.astype(np.int), left_index=True, right_index=True)\n",
    "dataset = dataset.sample(frac=1).reset_index(drop=True)\n",
    "dataset.to_pickle('train.pickle')"
   ]
  },
  {
   "cell_type": "code",
   "execution_count": 10,
   "metadata": {},
   "outputs": [],
   "source": [
    "x_train, x_validation, x_test, y_train, y_validation, y_test = load_data()"
   ]
  },
  {
   "cell_type": "markdown",
   "metadata": {},
   "source": [
    "## 1. Most and least common tokens"
   ]
  },
  {
   "cell_type": "code",
   "execution_count": 11,
   "metadata": {},
   "outputs": [],
   "source": [
    "def tokens_generator(corpus):\n",
    "    for text in corpus:\n",
    "        doc = nlp(text)\n",
    "        for token in doc:\n",
    "            yield token.lemma_.lower()\n",
    "\n",
    "tok_counter = Counter(tokens_generator(x_train))"
   ]
  },
  {
   "cell_type": "code",
   "execution_count": 12,
   "metadata": {},
   "outputs": [
    {
     "name": "stdout",
     "output_type": "stream",
     "text": [
      "[('-pron-', 30618), ('!', 15545), ('.', 14816), ('be', 14379), (',', 13329), ('the', 13052), ('\"', 9192), ('to', 7720), ('a', 7082), ('and', 6436), ('of', 5588), ('fuck', 4858), ('not', 4018), ('in', 4009), ('that', 3876), ('\\n\\n', 3679), ('have', 3370), (' ', 3356), ('you', 3180), ('do', 3024), ('\\n', 2986), ('for', 2707), ('this', 2554), ('-', 2512), ('nigger', 2438), ('on', 2211), (')', 2120), ('(', 2059), ('?', 1936), ('as', 1921), ('go', 1855), (':', 1838), ('will', 1736), ('with', 1665), ('if', 1621), ('article', 1610), ('fat', 1584), ('ass', 1485), ('wikipedia', 1440), ('suck', 1417), ('page', 1342), ('can', 1304), ('all', 1295), ('jew', 1282), ('but', 1228), ('u', 1209), ('or', 1172), ('die', 1170), ('an', 1099), ('cunt', 1056)]\n"
     ]
    }
   ],
   "source": [
    "# Tokens with the highest frequency\n",
    "print(tok_counter.most_common(50))"
   ]
  },
  {
   "cell_type": "code",
   "execution_count": 13,
   "metadata": {},
   "outputs": [
    {
     "data": {
      "text/plain": [
       "11301"
      ]
     },
     "execution_count": 13,
     "metadata": {},
     "output_type": "execute_result"
    }
   ],
   "source": [
    "# Number of tokens that only appear once\n",
    "n_unary = list(tok_counter.values()).count(1)\n",
    "n_unary"
   ]
  },
  {
   "cell_type": "code",
   "execution_count": 14,
   "metadata": {},
   "outputs": [
    {
     "data": {
      "text/html": [
       "<div>\n",
       "<style scoped>\n",
       "    .dataframe tbody tr th:only-of-type {\n",
       "        vertical-align: middle;\n",
       "    }\n",
       "\n",
       "    .dataframe tbody tr th {\n",
       "        vertical-align: top;\n",
       "    }\n",
       "\n",
       "    .dataframe thead th {\n",
       "        text-align: right;\n",
       "    }\n",
       "</style>\n",
       "<table border=\"1\" class=\"dataframe\">\n",
       "  <thead>\n",
       "    <tr style=\"text-align: right;\">\n",
       "      <th></th>\n",
       "      <th>freq</th>\n",
       "    </tr>\n",
       "  </thead>\n",
       "  <tbody>\n",
       "    <tr>\n",
       "      <th>count</th>\n",
       "      <td>20257.000000</td>\n",
       "    </tr>\n",
       "    <tr>\n",
       "      <th>mean</th>\n",
       "      <td>20.690181</td>\n",
       "    </tr>\n",
       "    <tr>\n",
       "      <th>std</th>\n",
       "      <td>350.219735</td>\n",
       "    </tr>\n",
       "    <tr>\n",
       "      <th>min</th>\n",
       "      <td>1.000000</td>\n",
       "    </tr>\n",
       "    <tr>\n",
       "      <th>25%</th>\n",
       "      <td>1.000000</td>\n",
       "    </tr>\n",
       "    <tr>\n",
       "      <th>50%</th>\n",
       "      <td>1.000000</td>\n",
       "    </tr>\n",
       "    <tr>\n",
       "      <th>75%</th>\n",
       "      <td>3.000000</td>\n",
       "    </tr>\n",
       "    <tr>\n",
       "      <th>max</th>\n",
       "      <td>30618.000000</td>\n",
       "    </tr>\n",
       "  </tbody>\n",
       "</table>\n",
       "</div>"
      ],
      "text/plain": [
       "               freq\n",
       "count  20257.000000\n",
       "mean      20.690181\n",
       "std      350.219735\n",
       "min        1.000000\n",
       "25%        1.000000\n",
       "50%        1.000000\n",
       "75%        3.000000\n",
       "max    30618.000000"
      ]
     },
     "execution_count": 14,
     "metadata": {},
     "output_type": "execute_result"
    }
   ],
   "source": [
    "word_freqs = pd.DataFrame(np.sort(np.array(list(tok_counter.values())))[::-1], columns=['freq'])\n",
    "word_freqs.describe()"
   ]
  },
  {
   "cell_type": "code",
   "execution_count": 15,
   "metadata": {},
   "outputs": [
    {
     "data": {
      "text/plain": [
       "[<matplotlib.lines.Line2D at 0x7f5256ef33a0>]"
      ]
     },
     "execution_count": 15,
     "metadata": {},
     "output_type": "execute_result"
    },
    {
     "data": {
      "image/png": "[encoded data removed]",
      "text/plain": [
       "<Figure size 432x288 with 1 Axes>"
      ]
     },
     "metadata": {
      "needs_background": "light"
     },
     "output_type": "display_data"
    }
   ],
   "source": [
    "# Most words occurs very rarely\n",
    "plt.xlabel('Token rank')\n",
    "plt.ylabel('Log frequency')\n",
    "plt.plot(range(word_freqs.size), np.log(word_freqs['freq']))"
   ]
  },
  {
   "cell_type": "markdown",
   "metadata": {},
   "source": [
    "### Aggregate tokens between cutoff points for stopword/rare-word removal\n",
    "\n",
    "We will retain informative tokens instead of removing most/least common tokens."
   ]
  },
  {
   "cell_type": "code",
   "execution_count": 16,
   "metadata": {},
   "outputs": [
    {
     "name": "stdout",
     "output_type": "stream",
     "text": [
      "8851\n"
     ]
    }
   ],
   "source": [
    "CUTOFF_HI = 500\n",
    "CUTOFF_LO = 2\n",
    "\n",
    "informative_tokens = set(\n",
    "    map(lambda x: x[0],  # Get the token itself\n",
    "        filter(lambda x: CUTOFF_LO <= x[1] < CUTOFF_HI,  # Filter predicate\n",
    "               list(tok_counter.items()))))\n",
    "\n",
    "# Write to disk for later use\n",
    "with open('informative_tokens.pickle', 'wb') as f:\n",
    "    pickle.dump(informative_tokens, f)\n",
    "\n",
    "print(len(informative_tokens))"
   ]
  },
  {
   "cell_type": "markdown",
   "metadata": {},
   "source": [
    "## 2. N-gram"
   ]
  },
  {
   "cell_type": "code",
   "execution_count": 17,
   "metadata": {},
   "outputs": [],
   "source": [
    "def n_gram_generator(corpus, n=2):\n",
    "    for text in corpus:\n",
    "        doc = nlp(text)\n",
    "        tokens = [token.lemma_.lower() for token in doc if token.is_alpha]\n",
    "        if len(tokens) > n:\n",
    "            for i in range(0, len(tokens) - n + 1):\n",
    "                yield ' '.join(tokens[i:i+n])\n",
    "\n",
    "n_gram_counter = Counter(n_gram_generator(x_train, N_GRAM))"
   ]
  },
  {
   "cell_type": "code",
   "execution_count": 18,
   "metadata": {},
   "outputs": [
    {
     "data": {
      "text/plain": [
       "25772"
      ]
     },
     "execution_count": 18,
     "metadata": {},
     "output_type": "execute_result"
    }
   ],
   "source": [
    "n_gram_freqs = pd.DataFrame(np.sort(np.array(list(n_gram_counter.values())))[::-1], columns=['freq'])\n",
    "\n",
    "# Number of bi-grams that occured more than once\n",
    "n_gram_freqs[n_gram_freqs > 1].count()[0]"
   ]
  },
  {
   "cell_type": "code",
   "execution_count": 19,
   "metadata": {},
   "outputs": [
    {
     "data": {
      "text/plain": [
       "[<matplotlib.lines.Line2D at 0x7f5255afa400>]"
      ]
     },
     "execution_count": 19,
     "metadata": {},
     "output_type": "execute_result"
    },
    {
     "data": {
      "image/png": "[encoded data removed]",
      "text/plain": [
       "<Figure size 432x288 with 1 Axes>"
      ]
     },
     "metadata": {
      "needs_background": "light"
     },
     "output_type": "display_data"
    }
   ],
   "source": [
    "plt.xlabel('n gram rank')\n",
    "plt.ylabel('Log frequency')\n",
    "plt.plot(range(n_gram_freqs.size), np.log(n_gram_freqs['freq']))"
   ]
  },
  {
   "cell_type": "code",
   "execution_count": 20,
   "metadata": {},
   "outputs": [
    {
     "name": "stdout",
     "output_type": "stream",
     "text": [
      "[('-pron- be', 2892), ('fuck -pron-', 1926), ('nigger nigger', 1720), ('be a', 1516), ('-pron- fuck', 1437), ('in the', 1392), ('jew fat', 1234), ('fat jew', 1226), ('-pron- have', 1128), ('of the', 1118)]\n"
     ]
    }
   ],
   "source": [
    "print(n_gram_counter.most_common(10))"
   ]
  },
  {
   "cell_type": "code",
   "execution_count": 21,
   "metadata": {},
   "outputs": [
    {
     "name": "stdout",
     "output_type": "stream",
     "text": [
      "5794\n"
     ]
    }
   ],
   "source": [
    "N_GRAM_CUTOFF_HI = 200\n",
    "N_GRAM_CUTOFF_LO = 6\n",
    "\n",
    "informative_ngrams = set(\n",
    "    map(lambda x: x[0],  # Get the n_gram itself\n",
    "        filter(lambda x: N_GRAM_CUTOFF_LO <= x[1] < N_GRAM_CUTOFF_HI,  # Filter predicate\n",
    "               list(n_gram_counter.items()))))\n",
    "\n",
    "# Write to disk for later use\n",
    "import pickle\n",
    "with open('informative_ngrams.pickle', 'wb') as f:\n",
    "    pickle.dump(informative_ngrams, f)\n",
    "\n",
    "print(len(informative_ngrams))"
   ]
  }
 ],
 "metadata": {
  "kernelspec": {
   "display_name": "Python 3",
   "language": "python",
   "name": "python3"
  },
  "language_info": {
   "codemirror_mode": {
    "name": "ipython",
    "version": 3
   },
   "file_extension": ".py",
   "mimetype": "text/x-python",
   "name": "python",
   "nbconvert_exporter": "python",
   "pygments_lexer": "ipython3",
   "version": "3.8.5"
  }
 },
 "nbformat": 4,
 "nbformat_minor": 4
}
