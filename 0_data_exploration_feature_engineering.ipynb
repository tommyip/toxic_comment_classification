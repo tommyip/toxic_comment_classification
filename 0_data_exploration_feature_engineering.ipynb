{
 "cells": [
  {
   "cell_type": "markdown",
   "metadata": {},
   "source": [
    "# Data exploration & feature engineering"
   ]
  },
  {
   "cell_type": "code",
   "execution_count": 1,
   "metadata": {},
   "outputs": [],
   "source": [
    "from collections import Counter\n",
    "import pickle\n",
    "\n",
    "import numpy as np\n",
    "import pandas as pd\n",
    "import matplotlib.pyplot as plt\n",
    "import spacy\n",
    "nlp = spacy.load('en_core_web_sm')\n",
    "\n",
    "from config import TRAIN_SIZE, VALIDATION_SIZE, TEST_SIZE, N_GRAM\n",
    "from helper import train_validation_test_data\n",
    "\n",
    "pd.set_option('max_colwidth', 120)"
   ]
  },
  {
   "cell_type": "code",
   "execution_count": 2,
   "metadata": {},
   "outputs": [],
   "source": [
    "x_train, x_validation, x_test, y_train, y_validation, y_test = train_validation_test_data()"
   ]
  },
  {
   "cell_type": "code",
   "execution_count": 3,
   "metadata": {},
   "outputs": [
    {
     "name": "stdout",
     "output_type": "stream",
     "text": [
      "5000 1000 1000\n"
     ]
    }
   ],
   "source": [
    "print(TRAIN_SIZE, VALIDATION_SIZE, TEST_SIZE)"
   ]
  },
  {
   "cell_type": "markdown",
   "metadata": {},
   "source": [
    "The size of the dataset used is limited to the numbers above (set in `config.py`), otherwise training will take too long on my laptop.\n",
    "\n",
    "$X$ is a vector of strings containing the comments."
   ]
  },
  {
   "cell_type": "code",
   "execution_count": 4,
   "metadata": {},
   "outputs": [
    {
     "data": {
      "text/html": [
       "<div>\n",
       "<style scoped>\n",
       "    .dataframe tbody tr th:only-of-type {\n",
       "        vertical-align: middle;\n",
       "    }\n",
       "\n",
       "    .dataframe tbody tr th {\n",
       "        vertical-align: top;\n",
       "    }\n",
       "\n",
       "    .dataframe thead th {\n",
       "        text-align: right;\n",
       "    }\n",
       "</style>\n",
       "<table border=\"1\" class=\"dataframe\">\n",
       "  <thead>\n",
       "    <tr style=\"text-align: right;\">\n",
       "      <th></th>\n",
       "      <th>comment_text</th>\n",
       "    </tr>\n",
       "  </thead>\n",
       "  <tbody>\n",
       "    <tr>\n",
       "      <th>101404</th>\n",
       "      <td>\"\\n\\nthe words \"\"last warning\"\" were found a total of 5 times on this page\"</td>\n",
       "    </tr>\n",
       "    <tr>\n",
       "      <th>3899</th>\n",
       "      <td>It must be from something since there is a very similar campaign clip from a US democrat candidate (Barrack Obama or...</td>\n",
       "    </tr>\n",
       "    <tr>\n",
       "      <th>138269</th>\n",
       "      <td>\"\\n\\n Hugo Margenat \\n\\nFound an Image Tony, Also, the Image was part of a Claridad article which you may use to fur...</td>\n",
       "    </tr>\n",
       "    <tr>\n",
       "      <th>108881</th>\n",
       "      <td>My apologies. Got distracted with other matters. Will try to resolve them as soon as I can.</td>\n",
       "    </tr>\n",
       "    <tr>\n",
       "      <th>100261</th>\n",
       "      <td>Just chipping in here: is an RfC which instructs people to read 24 previous discussions actually going to attract an...</td>\n",
       "    </tr>\n",
       "  </tbody>\n",
       "</table>\n",
       "</div>"
      ],
      "text/plain": [
       "                                                                                                                   comment_text\n",
       "101404                                              \"\\n\\nthe words \"\"last warning\"\" were found a total of 5 times on this page\"\n",
       "3899    It must be from something since there is a very similar campaign clip from a US democrat candidate (Barrack Obama or...\n",
       "138269  \"\\n\\n Hugo Margenat \\n\\nFound an Image Tony, Also, the Image was part of a Claridad article which you may use to fur...\n",
       "108881                              My apologies. Got distracted with other matters. Will try to resolve them as soon as I can.\n",
       "100261  Just chipping in here: is an RfC which instructs people to read 24 previous discussions actually going to attract an..."
      ]
     },
     "execution_count": 4,
     "metadata": {},
     "output_type": "execute_result"
    }
   ],
   "source": [
    "pd.DataFrame(x_train).head()"
   ]
  },
  {
   "cell_type": "markdown",
   "metadata": {},
   "source": [
    "$Y$ is a matrix containing the binary labels. Since this is a multi-label classification problem each instance can be of multiple labels."
   ]
  },
  {
   "cell_type": "code",
   "execution_count": 5,
   "metadata": {},
   "outputs": [
    {
     "data": {
      "text/html": [
       "<div>\n",
       "<style scoped>\n",
       "    .dataframe tbody tr th:only-of-type {\n",
       "        vertical-align: middle;\n",
       "    }\n",
       "\n",
       "    .dataframe tbody tr th {\n",
       "        vertical-align: top;\n",
       "    }\n",
       "\n",
       "    .dataframe thead th {\n",
       "        text-align: right;\n",
       "    }\n",
       "</style>\n",
       "<table border=\"1\" class=\"dataframe\">\n",
       "  <thead>\n",
       "    <tr style=\"text-align: right;\">\n",
       "      <th></th>\n",
       "      <th>toxic</th>\n",
       "      <th>severe_toxic</th>\n",
       "      <th>obscene</th>\n",
       "      <th>threat</th>\n",
       "      <th>insult</th>\n",
       "      <th>identity_hate</th>\n",
       "    </tr>\n",
       "  </thead>\n",
       "  <tbody>\n",
       "    <tr>\n",
       "      <th>37507</th>\n",
       "      <td>1</td>\n",
       "      <td>1</td>\n",
       "      <td>1</td>\n",
       "      <td>0</td>\n",
       "      <td>1</td>\n",
       "      <td>0</td>\n",
       "    </tr>\n",
       "    <tr>\n",
       "      <th>61997</th>\n",
       "      <td>1</td>\n",
       "      <td>0</td>\n",
       "      <td>0</td>\n",
       "      <td>0</td>\n",
       "      <td>1</td>\n",
       "      <td>0</td>\n",
       "    </tr>\n",
       "    <tr>\n",
       "      <th>18526</th>\n",
       "      <td>1</td>\n",
       "      <td>0</td>\n",
       "      <td>1</td>\n",
       "      <td>0</td>\n",
       "      <td>1</td>\n",
       "      <td>0</td>\n",
       "    </tr>\n",
       "    <tr>\n",
       "      <th>9920</th>\n",
       "      <td>1</td>\n",
       "      <td>0</td>\n",
       "      <td>1</td>\n",
       "      <td>0</td>\n",
       "      <td>0</td>\n",
       "      <td>0</td>\n",
       "    </tr>\n",
       "    <tr>\n",
       "      <th>118857</th>\n",
       "      <td>1</td>\n",
       "      <td>1</td>\n",
       "      <td>1</td>\n",
       "      <td>0</td>\n",
       "      <td>1</td>\n",
       "      <td>0</td>\n",
       "    </tr>\n",
       "  </tbody>\n",
       "</table>\n",
       "</div>"
      ],
      "text/plain": [
       "        toxic  severe_toxic  obscene  threat  insult  identity_hate\n",
       "37507       1             1        1       0       1              0\n",
       "61997       1             0        0       0       1              0\n",
       "18526       1             0        1       0       1              0\n",
       "9920        1             0        1       0       0              0\n",
       "118857      1             1        1       0       1              0"
      ]
     },
     "execution_count": 5,
     "metadata": {},
     "output_type": "execute_result"
    }
   ],
   "source": [
    "y_train[y_train.sum(axis=1) > 1].head()"
   ]
  },
  {
   "cell_type": "markdown",
   "metadata": {},
   "source": [
    "As we can see below the label frequencies are quite unbalanced, so we might need to do some feature engineering later on to avoid getting bias or low score in some labels."
   ]
  },
  {
   "cell_type": "code",
   "execution_count": 6,
   "metadata": {},
   "outputs": [
    {
     "name": "stdout",
     "output_type": "stream",
     "text": [
      "toxic            476\n",
      "severe_toxic      52\n",
      "obscene          269\n",
      "threat             5\n",
      "insult           267\n",
      "identity_hate     43\n",
      "dtype: int64\n"
     ]
    },
    {
     "data": {
      "text/plain": [
       "<BarContainer object of 6 artists>"
      ]
     },
     "execution_count": 6,
     "metadata": {},
     "output_type": "execute_result"
    },
    {
     "data": {
      "image/png": "[encoded data removed]",
      "text/plain": [
       "<Figure size 432x288 with 1 Axes>"
      ]
     },
     "metadata": {
      "needs_background": "light"
     },
     "output_type": "display_data"
    }
   ],
   "source": [
    "print(y_train.sum())\n",
    "plt.bar(range(y_train.shape[1]), y_train.sum(), tick_label=y_train.columns)"
   ]
  },
  {
   "cell_type": "markdown",
   "metadata": {},
   "source": [
    "## 1. Most and least common tokens"
   ]
  },
  {
   "cell_type": "code",
   "execution_count": 7,
   "metadata": {},
   "outputs": [],
   "source": [
    "def tokens_generator(corpus):\n",
    "    for text in corpus:\n",
    "        doc = nlp(text)\n",
    "        for token in doc:\n",
    "            yield token.lemma_.lower()\n",
    "\n",
    "tok_counter = Counter(tokens_generator(x_train))"
   ]
  },
  {
   "cell_type": "code",
   "execution_count": 8,
   "metadata": {},
   "outputs": [
    {
     "name": "stdout",
     "output_type": "stream",
     "text": [
      "[('-pron-', 28372), ('be', 16287), ('.', 15652), (',', 15050), ('the', 15048), ('\"', 11669), ('to', 9227), ('of', 6827), ('and', 6654), ('a', 6390), ('not', 5134), ('that', 5082), ('in', 4281), ('have', 4136), (' ', 3910), ('do', 3642), ('\\n\\n', 3364), ('for', 3301), ('this', 2914), ('on', 2767), (')', 2645), ('\\n', 2506), ('-', 2484), ('as', 2419), ('(', 2409), ('article', 2283), ('?', 2174), (':', 2140), ('!', 2015), ('with', 1839), ('if', 1771), ('page', 1706), ('or', 1632), ('but', 1593), ('can', 1426), ('wikipedia', 1392), ('an', 1284), ('about', 1260), ('at', 1245), ('by', 1241), ('will', 1232), ('from', 1229), ('talk', 1151), ('what', 1149), ('there', 1122), ('so', 1073), ('edit', 1037), (\"'\", 1027), (\"'s\", 1000), ('use', 996)]\n"
     ]
    }
   ],
   "source": [
    "# Tokens with the highest frequency\n",
    "print(tok_counter.most_common(50))"
   ]
  },
  {
   "cell_type": "code",
   "execution_count": 9,
   "metadata": {},
   "outputs": [
    {
     "data": {
      "text/plain": [
       "11972"
      ]
     },
     "execution_count": 9,
     "metadata": {},
     "output_type": "execute_result"
    }
   ],
   "source": [
    "# Number of tokens that only appear once\n",
    "n_unary = list(tok_counter.values()).count(1)\n",
    "n_unary"
   ]
  },
  {
   "cell_type": "code",
   "execution_count": 10,
   "metadata": {},
   "outputs": [
    {
     "data": {
      "text/html": [
       "<div>\n",
       "<style scoped>\n",
       "    .dataframe tbody tr th:only-of-type {\n",
       "        vertical-align: middle;\n",
       "    }\n",
       "\n",
       "    .dataframe tbody tr th {\n",
       "        vertical-align: top;\n",
       "    }\n",
       "\n",
       "    .dataframe thead th {\n",
       "        text-align: right;\n",
       "    }\n",
       "</style>\n",
       "<table border=\"1\" class=\"dataframe\">\n",
       "  <thead>\n",
       "    <tr style=\"text-align: right;\">\n",
       "      <th></th>\n",
       "      <th>freq</th>\n",
       "    </tr>\n",
       "  </thead>\n",
       "  <tbody>\n",
       "    <tr>\n",
       "      <th>count</th>\n",
       "      <td>21458.000000</td>\n",
       "    </tr>\n",
       "    <tr>\n",
       "      <th>mean</th>\n",
       "      <td>18.839966</td>\n",
       "    </tr>\n",
       "    <tr>\n",
       "      <th>std</th>\n",
       "      <td>334.084026</td>\n",
       "    </tr>\n",
       "    <tr>\n",
       "      <th>min</th>\n",
       "      <td>1.000000</td>\n",
       "    </tr>\n",
       "    <tr>\n",
       "      <th>25%</th>\n",
       "      <td>1.000000</td>\n",
       "    </tr>\n",
       "    <tr>\n",
       "      <th>50%</th>\n",
       "      <td>1.000000</td>\n",
       "    </tr>\n",
       "    <tr>\n",
       "      <th>75%</th>\n",
       "      <td>3.000000</td>\n",
       "    </tr>\n",
       "    <tr>\n",
       "      <th>max</th>\n",
       "      <td>28372.000000</td>\n",
       "    </tr>\n",
       "  </tbody>\n",
       "</table>\n",
       "</div>"
      ],
      "text/plain": [
       "               freq\n",
       "count  21458.000000\n",
       "mean      18.839966\n",
       "std      334.084026\n",
       "min        1.000000\n",
       "25%        1.000000\n",
       "50%        1.000000\n",
       "75%        3.000000\n",
       "max    28372.000000"
      ]
     },
     "execution_count": 10,
     "metadata": {},
     "output_type": "execute_result"
    }
   ],
   "source": [
    "word_freqs = pd.DataFrame(np.sort(np.array(list(tok_counter.values())))[::-1], columns=['freq'])\n",
    "word_freqs.describe()"
   ]
  },
  {
   "cell_type": "code",
   "execution_count": 11,
   "metadata": {},
   "outputs": [
    {
     "data": {
      "text/plain": [
       "[<matplotlib.lines.Line2D at 0x7f0d7c489f40>]"
      ]
     },
     "execution_count": 11,
     "metadata": {},
     "output_type": "execute_result"
    },
    {
     "data": {
      "image/png": "[encoded data removed]",
      "text/plain": [
       "<Figure size 432x288 with 1 Axes>"
      ]
     },
     "metadata": {
      "needs_background": "light"
     },
     "output_type": "display_data"
    }
   ],
   "source": [
    "# Most words occurs very rarely\n",
    "plt.xlabel('Token rank')\n",
    "plt.ylabel('Log frequency')\n",
    "plt.plot(range(word_freqs.size), np.log(word_freqs['freq']))"
   ]
  },
  {
   "cell_type": "markdown",
   "metadata": {},
   "source": [
    "### Aggregate tokens between cutoff points for stopword/rare-word removal\n",
    "\n",
    "We will retain informative tokens instead of removing most/least common tokens."
   ]
  },
  {
   "cell_type": "code",
   "execution_count": 12,
   "metadata": {},
   "outputs": [
    {
     "name": "stdout",
     "output_type": "stream",
     "text": [
      "9394\n"
     ]
    }
   ],
   "source": [
    "CUTOFF_HI = 500\n",
    "CUTOFF_LO = 2\n",
    "\n",
    "informative_tokens = set(\n",
    "    map(lambda x: x[0],  # Get the token itself\n",
    "        filter(lambda x: CUTOFF_LO <= x[1] < CUTOFF_HI,  # Filter predicate\n",
    "               list(tok_counter.items()))))\n",
    "\n",
    "# Write to disk for later use\n",
    "with open('informative_tokens.pickle', 'wb') as f:\n",
    "    pickle.dump(informative_tokens, f)\n",
    "\n",
    "print(len(informative_tokens))"
   ]
  },
  {
   "cell_type": "markdown",
   "metadata": {},
   "source": [
    "## 2. N-gram"
   ]
  },
  {
   "cell_type": "code",
   "execution_count": 13,
   "metadata": {},
   "outputs": [],
   "source": [
    "def n_gram_generator(corpus, n=2):\n",
    "    for text in corpus:\n",
    "        doc = nlp(text)\n",
    "        tokens = [token.lemma_.lower() for token in doc if token.is_alpha]\n",
    "        if len(tokens) > n:\n",
    "            for i in range(0, len(tokens) - n + 1):\n",
    "                yield ' '.join(tokens[i:i+n])\n",
    "\n",
    "n_gram_counter = Counter(n_gram_generator(x_train, N_GRAM))"
   ]
  },
  {
   "cell_type": "code",
   "execution_count": 14,
   "metadata": {},
   "outputs": [
    {
     "data": {
      "text/plain": [
       "28588"
      ]
     },
     "execution_count": 14,
     "metadata": {},
     "output_type": "execute_result"
    }
   ],
   "source": [
    "n_gram_freqs = pd.DataFrame(np.sort(np.array(list(n_gram_counter.values())))[::-1], columns=['freq'])\n",
    "\n",
    "# Number of bi-grams that occured more than once\n",
    "n_gram_freqs[n_gram_freqs > 1].count()[0]"
   ]
  },
  {
   "cell_type": "code",
   "execution_count": 15,
   "metadata": {},
   "outputs": [
    {
     "data": {
      "text/plain": [
       "[<matplotlib.lines.Line2D at 0x7f0d7d2da370>]"
      ]
     },
     "execution_count": 15,
     "metadata": {},
     "output_type": "execute_result"
    },
    {
     "data": {
      "image/png": "[encoded data removed]",
      "text/plain": [
       "<Figure size 432x288 with 1 Axes>"
      ]
     },
     "metadata": {
      "needs_background": "light"
     },
     "output_type": "display_data"
    }
   ],
   "source": [
    "plt.xlabel('n gram rank')\n",
    "plt.ylabel('Log frequency')\n",
    "plt.plot(range(n_gram_freqs.size), np.log(n_gram_freqs['freq']))"
   ]
  },
  {
   "cell_type": "code",
   "execution_count": 20,
   "metadata": {},
   "outputs": [
    {
     "name": "stdout",
     "output_type": "stream",
     "text": [
      "[('-pron- be', 3170), ('of the', 1575), ('-pron- have', 1477), ('-pron- do', 1254), ('that -pron-', 1230), ('if -pron-', 1206), ('be a', 1137), ('in the', 1137), ('be not', 871), ('-pron- can', 870)]\n"
     ]
    }
   ],
   "source": [
    "print(n_gram_counter.most_common(10))"
   ]
  },
  {
   "cell_type": "code",
   "execution_count": 24,
   "metadata": {},
   "outputs": [
    {
     "name": "stdout",
     "output_type": "stream",
     "text": [
      "6459\n"
     ]
    }
   ],
   "source": [
    "N_GRAM_CUTOFF_HI = 200\n",
    "N_GRAM_CUTOFF_LO = 6\n",
    "\n",
    "informative_ngrams = set(\n",
    "    map(lambda x: x[0],  # Get the n_gram itself\n",
    "        filter(lambda x: N_GRAM_CUTOFF_LO <= x[1] < N_GRAM_CUTOFF_HI,  # Filter predicate\n",
    "               list(n_gram_counter.items()))))\n",
    "\n",
    "# Write to disk for later use\n",
    "import pickle\n",
    "with open('informative_ngrams.pickle', 'wb') as f:\n",
    "    pickle.dump(informative_ngrams, f)\n",
    "\n",
    "print(len(informative_ngrams))"
   ]
  }
 ],
 "metadata": {
  "kernelspec": {
   "display_name": "Python 3",
   "language": "python",
   "name": "python3"
  },
  "language_info": {
   "codemirror_mode": {
    "name": "ipython",
    "version": 3
   },
   "file_extension": ".py",
   "mimetype": "text/x-python",
   "name": "python",
   "nbconvert_exporter": "python",
   "pygments_lexer": "ipython3",
   "version": "3.8.5"
  }
 },
 "nbformat": 4,
 "nbformat_minor": 4
}
