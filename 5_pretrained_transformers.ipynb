{
  "nbformat": 4,
  "nbformat_minor": 0,
  "metadata": {
    "colab": {
      "name": "5_pretrained_transformers.ipynb",
      "provenance": [],
      "collapsed_sections": []
    },
    "kernelspec": {
      "name": "python3",
      "display_name": "Python 3"
    },
    "accelerator": "GPU",
    "widgets": {
      "application/vnd.jupyter.widget-state+json": {
        "42392b1c230e4cddae9f74e93d588fd7": {
          "model_module": "@jupyter-widgets/controls",
          "model_name": "HBoxModel",
          "state": {
            "_view_name": "HBoxView",
            "_dom_classes": [],
            "_model_name": "HBoxModel",
            "_view_module": "@jupyter-widgets/controls",
            "_model_module_version": "1.5.0",
            "_view_count": null,
            "_view_module_version": "1.5.0",
            "box_style": "",
            "layout": "IPY_MODEL_0bcc0c7bc71b433db17084c60c80525c",
            "_model_module": "@jupyter-widgets/controls",
            "children": [
              "IPY_MODEL_fd07635dfe9e4dbebfcf5c201379b4df",
              "IPY_MODEL_b6539dd0d338482497057b58330078b3",
              "IPY_MODEL_ea83e5abc0594256ab93fce27da25bfc"
            ]
          }
        },
        "0bcc0c7bc71b433db17084c60c80525c": {
          "model_module": "@jupyter-widgets/base",
          "model_name": "LayoutModel",
          "state": {
            "_view_name": "LayoutView",
            "grid_template_rows": null,
            "right": null,
            "justify_content": null,
            "_view_module": "@jupyter-widgets/base",
            "overflow": null,
            "_model_module_version": "1.2.0",
            "_view_count": null,
            "flex_flow": null,
            "width": null,
            "min_width": null,
            "border": null,
            "align_items": null,
            "bottom": null,
            "_model_module": "@jupyter-widgets/base",
            "top": null,
            "grid_column": null,
            "overflow_y": null,
            "overflow_x": null,
            "grid_auto_flow": null,
            "grid_area": null,
            "grid_template_columns": null,
            "flex": null,
            "_model_name": "LayoutModel",
            "justify_items": null,
            "grid_row": null,
            "max_height": null,
            "align_content": null,
            "visibility": null,
            "align_self": null,
            "height": null,
            "min_height": null,
            "padding": null,
            "grid_auto_rows": null,
            "grid_gap": null,
            "max_width": null,
            "order": null,
            "_view_module_version": "1.2.0",
            "grid_template_areas": null,
            "object_position": null,
            "object_fit": null,
            "grid_auto_columns": null,
            "margin": null,
            "display": null,
            "left": null
          }
        },
        "fd07635dfe9e4dbebfcf5c201379b4df": {
          "model_module": "@jupyter-widgets/controls",
          "model_name": "HTMLModel",
          "state": {
            "_view_name": "HTMLView",
            "style": "IPY_MODEL_00bee42683b0440f8604a22215c10024",
            "_dom_classes": [],
            "description": "",
            "_model_name": "HTMLModel",
            "placeholder": "​",
            "_view_module": "@jupyter-widgets/controls",
            "_model_module_version": "1.5.0",
            "value": "Running Evaluation: 100%",
            "_view_count": null,
            "_view_module_version": "1.5.0",
            "description_tooltip": null,
            "_model_module": "@jupyter-widgets/controls",
            "layout": "IPY_MODEL_83261fc094bc452d9f5eb58aaf4f84b7"
          }
        },
        "b6539dd0d338482497057b58330078b3": {
          "model_module": "@jupyter-widgets/controls",
          "model_name": "FloatProgressModel",
          "state": {
            "_view_name": "ProgressView",
            "style": "IPY_MODEL_5c4ec2ea5cae4489b88d546d5a33a79a",
            "_dom_classes": [],
            "description": "",
            "_model_name": "FloatProgressModel",
            "bar_style": "success",
            "max": 125,
            "_view_module": "@jupyter-widgets/controls",
            "_model_module_version": "1.5.0",
            "value": 125,
            "_view_count": null,
            "_view_module_version": "1.5.0",
            "orientation": "horizontal",
            "min": 0,
            "description_tooltip": null,
            "_model_module": "@jupyter-widgets/controls",
            "layout": "IPY_MODEL_25ad53688c7f4363b5a1f0d542677184"
          }
        },
        "ea83e5abc0594256ab93fce27da25bfc": {
          "model_module": "@jupyter-widgets/controls",
          "model_name": "HTMLModel",
          "state": {
            "_view_name": "HTMLView",
            "style": "IPY_MODEL_3006147f6500476ea6779799d4c0be10",
            "_dom_classes": [],
            "description": "",
            "_model_name": "HTMLModel",
            "placeholder": "​",
            "_view_module": "@jupyter-widgets/controls",
            "_model_module_version": "1.5.0",
            "value": " 125/125 [00:07&lt;00:00, 17.25it/s]",
            "_view_count": null,
            "_view_module_version": "1.5.0",
            "description_tooltip": null,
            "_model_module": "@jupyter-widgets/controls",
            "layout": "IPY_MODEL_6f6159a8b0394bf2a301a7860b27f6c1"
          }
        },
        "00bee42683b0440f8604a22215c10024": {
          "model_module": "@jupyter-widgets/controls",
          "model_name": "DescriptionStyleModel",
          "state": {
            "_view_name": "StyleView",
            "_model_name": "DescriptionStyleModel",
            "description_width": "",
            "_view_module": "@jupyter-widgets/base",
            "_model_module_version": "1.5.0",
            "_view_count": null,
            "_view_module_version": "1.2.0",
            "_model_module": "@jupyter-widgets/controls"
          }
        },
        "83261fc094bc452d9f5eb58aaf4f84b7": {
          "model_module": "@jupyter-widgets/base",
          "model_name": "LayoutModel",
          "state": {
            "_view_name": "LayoutView",
            "grid_template_rows": null,
            "right": null,
            "justify_content": null,
            "_view_module": "@jupyter-widgets/base",
            "overflow": null,
            "_model_module_version": "1.2.0",
            "_view_count": null,
            "flex_flow": null,
            "width": null,
            "min_width": null,
            "border": null,
            "align_items": null,
            "bottom": null,
            "_model_module": "@jupyter-widgets/base",
            "top": null,
            "grid_column": null,
            "overflow_y": null,
            "overflow_x": null,
            "grid_auto_flow": null,
            "grid_area": null,
            "grid_template_columns": null,
            "flex": null,
            "_model_name": "LayoutModel",
            "justify_items": null,
            "grid_row": null,
            "max_height": null,
            "align_content": null,
            "visibility": null,
            "align_self": null,
            "height": null,
            "min_height": null,
            "padding": null,
            "grid_auto_rows": null,
            "grid_gap": null,
            "max_width": null,
            "order": null,
            "_view_module_version": "1.2.0",
            "grid_template_areas": null,
            "object_position": null,
            "object_fit": null,
            "grid_auto_columns": null,
            "margin": null,
            "display": null,
            "left": null
          }
        },
        "5c4ec2ea5cae4489b88d546d5a33a79a": {
          "model_module": "@jupyter-widgets/controls",
          "model_name": "ProgressStyleModel",
          "state": {
            "_view_name": "StyleView",
            "_model_name": "ProgressStyleModel",
            "description_width": "",
            "_view_module": "@jupyter-widgets/base",
            "_model_module_version": "1.5.0",
            "_view_count": null,
            "_view_module_version": "1.2.0",
            "bar_color": null,
            "_model_module": "@jupyter-widgets/controls"
          }
        },
        "25ad53688c7f4363b5a1f0d542677184": {
          "model_module": "@jupyter-widgets/base",
          "model_name": "LayoutModel",
          "state": {
            "_view_name": "LayoutView",
            "grid_template_rows": null,
            "right": null,
            "justify_content": null,
            "_view_module": "@jupyter-widgets/base",
            "overflow": null,
            "_model_module_version": "1.2.0",
            "_view_count": null,
            "flex_flow": null,
            "width": null,
            "min_width": null,
            "border": null,
            "align_items": null,
            "bottom": null,
            "_model_module": "@jupyter-widgets/base",
            "top": null,
            "grid_column": null,
            "overflow_y": null,
            "overflow_x": null,
            "grid_auto_flow": null,
            "grid_area": null,
            "grid_template_columns": null,
            "flex": null,
            "_model_name": "LayoutModel",
            "justify_items": null,
            "grid_row": null,
            "max_height": null,
            "align_content": null,
            "visibility": null,
            "align_self": null,
            "height": null,
            "min_height": null,
            "padding": null,
            "grid_auto_rows": null,
            "grid_gap": null,
            "max_width": null,
            "order": null,
            "_view_module_version": "1.2.0",
            "grid_template_areas": null,
            "object_position": null,
            "object_fit": null,
            "grid_auto_columns": null,
            "margin": null,
            "display": null,
            "left": null
          }
        },
        "3006147f6500476ea6779799d4c0be10": {
          "model_module": "@jupyter-widgets/controls",
          "model_name": "DescriptionStyleModel",
          "state": {
            "_view_name": "StyleView",
            "_model_name": "DescriptionStyleModel",
            "description_width": "",
            "_view_module": "@jupyter-widgets/base",
            "_model_module_version": "1.5.0",
            "_view_count": null,
            "_view_module_version": "1.2.0",
            "_model_module": "@jupyter-widgets/controls"
          }
        },
        "6f6159a8b0394bf2a301a7860b27f6c1": {
          "model_module": "@jupyter-widgets/base",
          "model_name": "LayoutModel",
          "state": {
            "_view_name": "LayoutView",
            "grid_template_rows": null,
            "right": null,
            "justify_content": null,
            "_view_module": "@jupyter-widgets/base",
            "overflow": null,
            "_model_module_version": "1.2.0",
            "_view_count": null,
            "flex_flow": null,
            "width": null,
            "min_width": null,
            "border": null,
            "align_items": null,
            "bottom": null,
            "_model_module": "@jupyter-widgets/base",
            "top": null,
            "grid_column": null,
            "overflow_y": null,
            "overflow_x": null,
            "grid_auto_flow": null,
            "grid_area": null,
            "grid_template_columns": null,
            "flex": null,
            "_model_name": "LayoutModel",
            "justify_items": null,
            "grid_row": null,
            "max_height": null,
            "align_content": null,
            "visibility": null,
            "align_self": null,
            "height": null,
            "min_height": null,
            "padding": null,
            "grid_auto_rows": null,
            "grid_gap": null,
            "max_width": null,
            "order": null,
            "_view_module_version": "1.2.0",
            "grid_template_areas": null,
            "object_position": null,
            "object_fit": null,
            "grid_auto_columns": null,
            "margin": null,
            "display": null,
            "left": null
          }
        }
      }
    }
  },
  "cells": [
    {
      "cell_type": "markdown",
      "metadata": {
        "id": "LjM88gj6PKf3"
      },
      "source": [
        "# Pretrained transformers\n",
        "\n",
        "In the last notebook we explored using a LSTM network. The training score improved over the MLP approach but the same can not be said for the test score. In this attempt we will use a transformer network to try to obtain a better test scores.\n",
        "\n"
      ]
    },
    {
      "cell_type": "code",
      "metadata": {
        "id": "2AQeScBjPwQD"
      },
      "source": [
        "# If running on Google Colab, upload the supporting files to google drive\n",
        "# then run this to import them. Also install simpletransformers.\n",
        "try:\n",
        "  from google.colab import drive\n",
        "  drive.mount('/content/drive')\n",
        "  !cp 'drive/My Drive/Colab/__init__.py' .\n",
        "  !cp 'drive/My Drive/Colab/config.py' .\n",
        "  !cp 'drive/My Drive/Colab/helper.py' .\n",
        "  !cp 'drive/My Drive/Colab/train.pickle' .\n",
        "  !pip install simpletransformers\n",
        "except:\n",
        "  pass"
      ],
      "execution_count": null,
      "outputs": []
    },
    {
      "cell_type": "code",
      "metadata": {
        "id": "_DsPnWmgU586"
      },
      "source": [
        "import wandb\n",
        "from simpletransformers.classification import (\n",
        "    MultiLabelClassificationModel, MultiLabelClassificationArgs)\n",
        "import pandas as pd\n",
        "import logging\n",
        "from sklearn import metrics\n",
        "\n",
        "from helper import load_data\n",
        "\n",
        "logging.basicConfig(level=logging.INFO)\n",
        "transformers_logger = logging.getLogger('transformers')\n",
        "transformers_logger.setLevel(logging.WARNING)"
      ],
      "execution_count": 2,
      "outputs": []
    },
    {
      "cell_type": "code",
      "metadata": {
        "id": "3MZH43lGVZkr"
      },
      "source": [
        "x_train, x_validation, x_test, y_train, y_validation, y_test = load_data()"
      ],
      "execution_count": 3,
      "outputs": []
    },
    {
      "cell_type": "code",
      "metadata": {
        "colab": {
          "base_uri": "https://localhost:8080/",
          "height": 204
        },
        "id": "ld3Xg4w9VeAL",
        "outputId": "7d1b8c51-0a62-4d9c-9b9c-593ae9cca28d"
      },
      "source": [
        "train_df = pd.DataFrame(dict(text=x_train, labels=y_train.values.tolist()))\n",
        "validation_df = pd.DataFrame(dict(text=x_validation, labels=y_validation.values.tolist()))\n",
        "train_df.head()"
      ],
      "execution_count": 4,
      "outputs": [
        {
          "output_type": "execute_result",
          "data": {
            "text/html": [
              "<div>\n",
              "<style scoped>\n",
              "    .dataframe tbody tr th:only-of-type {\n",
              "        vertical-align: middle;\n",
              "    }\n",
              "\n",
              "    .dataframe tbody tr th {\n",
              "        vertical-align: top;\n",
              "    }\n",
              "\n",
              "    .dataframe thead th {\n",
              "        text-align: right;\n",
              "    }\n",
              "</style>\n",
              "<table border=\"1\" class=\"dataframe\">\n",
              "  <thead>\n",
              "    <tr style=\"text-align: right;\">\n",
              "      <th></th>\n",
              "      <th>text</th>\n",
              "      <th>labels</th>\n",
              "    </tr>\n",
              "  </thead>\n",
              "  <tbody>\n",
              "    <tr>\n",
              "      <th>3166</th>\n",
              "      <td>\"\\n Commons Admin Noticeboard beginning 3/22 P...</td>\n",
              "      <td>[0, 0, 0, 0, 0, 0]</td>\n",
              "    </tr>\n",
              "    <tr>\n",
              "      <th>4118</th>\n",
              "      <td>\"\\n\\nI see. But, all the same, I haven't seen ...</td>\n",
              "      <td>[0, 0, 0, 0, 0, 0]</td>\n",
              "    </tr>\n",
              "    <tr>\n",
              "      <th>5199</th>\n",
              "      <td>Yes?? I've just not been on msn recently as iv...</td>\n",
              "      <td>[0, 0, 0, 0, 0, 0]</td>\n",
              "    </tr>\n",
              "    <tr>\n",
              "      <th>4333</th>\n",
              "      <td>, oh shit, stop making warnings, motherfucker,...</td>\n",
              "      <td>[1, 1, 1, 0, 1, 0]</td>\n",
              "    </tr>\n",
              "    <tr>\n",
              "      <th>564</th>\n",
              "      <td>That's in the version that TRP demand son havi...</td>\n",
              "      <td>[0, 0, 0, 0, 0, 0]</td>\n",
              "    </tr>\n",
              "  </tbody>\n",
              "</table>\n",
              "</div>"
            ],
            "text/plain": [
              "                                                   text              labels\n",
              "3166  \"\\n Commons Admin Noticeboard beginning 3/22 P...  [0, 0, 0, 0, 0, 0]\n",
              "4118  \"\\n\\nI see. But, all the same, I haven't seen ...  [0, 0, 0, 0, 0, 0]\n",
              "5199  Yes?? I've just not been on msn recently as iv...  [0, 0, 0, 0, 0, 0]\n",
              "4333  , oh shit, stop making warnings, motherfucker,...  [1, 1, 1, 0, 1, 0]\n",
              "564   That's in the version that TRP demand son havi...  [0, 0, 0, 0, 0, 0]"
            ]
          },
          "metadata": {
            "tags": []
          },
          "execution_count": 4
        }
      ]
    },
    {
      "cell_type": "markdown",
      "metadata": {
        "id": "MBBlXgv8Axsp"
      },
      "source": [
        "## Hyperparameter optimization"
      ]
    },
    {
      "cell_type": "code",
      "metadata": {
        "id": "VWW4mlKCVGxx"
      },
      "source": [
        "sweep_config = {\n",
        "    'method': 'bayes',\n",
        "    'metric': {'name': 'eval_loss', 'goal': 'minimize'},\n",
        "    'parameters': {\n",
        "        'num_train_epochs': {'min': 2, 'max': 4},\n",
        "        'learning_rate': {'min': 4e-5, 'max': 7e-5},\n",
        "        'train_batch_size': {'values': [8, 16, 32]},\n",
        "    }\n",
        "}\n",
        "# sweep_id = wandb.sweep(sweep_config, project='Toxic comments')"
      ],
      "execution_count": 5,
      "outputs": []
    },
    {
      "cell_type": "code",
      "metadata": {
        "id": "b21xvN56Wrsw"
      },
      "source": [
        "model_args = MultiLabelClassificationArgs(\n",
        "    overwrite_output_dir=True,\n",
        "    no_save=True,\n",
        "    max_seq_length=96,\n",
        "    use_multiprocessing=True,\n",
        "    evaluate_during_training=True,\n",
        "    manual_seed=42,\n",
        "    use_cached_eval_features=True,\n",
        "    wandb_project='Toxic comments')\n",
        "\n",
        "def train():\n",
        "    wandb.init()\n",
        "    model = MultiLabelClassificationModel(\n",
        "        'xlmroberta',\n",
        "        'xlm-roberta-base',\n",
        "        num_labels=6,\n",
        "        args=model_args,\n",
        "        sweep_config=wandb.config)\n",
        "    model.train_model(\n",
        "        train_df,\n",
        "        eval_df=validation_df,\n",
        "        acc=metrics.roc_auc_score)\n",
        "    model.eval_model(validation_df, acc=metrics.roc_auc_score)\n",
        "\n",
        "    wandb.join()\n",
        "\n",
        "# Optimize hyperparameters\n",
        "# wandb.agent(sweep_id, train)"
      ],
      "execution_count": 6,
      "outputs": []
    },
    {
      "cell_type": "markdown",
      "metadata": {
        "id": "Vi8NQlReWJld"
      },
      "source": [
        "## Train final model using hyperparameters from wandb"
      ]
    },
    {
      "cell_type": "code",
      "metadata": {
        "id": "6nEvBVPYVK05"
      },
      "source": [
        "final_model_args = MultiLabelClassificationArgs(\n",
        "    learning_rate=5.3e-5,\n",
        "    num_train_epochs=5,\n",
        "    train_batch_size=32,\n",
        "    max_seq_length=256,\n",
        "    overwrite_output_dir=True,\n",
        "    use_multiprocessing=True,\n",
        "    evaluate_during_training=True,\n",
        "    manual_seed=42,\n",
        "    use_cached_eval_features=True)\n",
        "\n",
        "model = MultiLabelClassificationModel(\n",
        "    'xlmroberta',\n",
        "    'xlm-roberta-base',\n",
        "    num_labels=6,\n",
        "    args=final_model_args)\n",
        "model.train_model(\n",
        "    train_df,\n",
        "    eval_df=validation_df,\n",
        "    acc=metrics.roc_auc_score)"
      ],
      "execution_count": null,
      "outputs": []
    },
    {
      "cell_type": "markdown",
      "metadata": {
        "id": "jsV-qRjhbmor"
      },
      "source": [
        "## Model evaluation on test set"
      ]
    },
    {
      "cell_type": "code",
      "metadata": {
        "colab": {
          "base_uri": "https://localhost:8080/",
          "height": 117,
          "referenced_widgets": [
            "42392b1c230e4cddae9f74e93d588fd7",
            "0bcc0c7bc71b433db17084c60c80525c",
            "fd07635dfe9e4dbebfcf5c201379b4df",
            "b6539dd0d338482497057b58330078b3",
            "ea83e5abc0594256ab93fce27da25bfc",
            "00bee42683b0440f8604a22215c10024",
            "83261fc094bc452d9f5eb58aaf4f84b7",
            "5c4ec2ea5cae4489b88d546d5a33a79a",
            "25ad53688c7f4363b5a1f0d542677184",
            "3006147f6500476ea6779799d4c0be10",
            "6f6159a8b0394bf2a301a7860b27f6c1"
          ]
        },
        "id": "w8dqcWBlbQCR",
        "outputId": "77edc49b-c707-4ec5-d244-ef0b1d02401d"
      },
      "source": [
        "test_df = pd.DataFrame(dict(text=x_test, labels=y_test.values.tolist()))\n",
        "result, _, _ = model.eval_model(test_df, acc=metrics.roc_auc_score)\n",
        "result"
      ],
      "execution_count": 9,
      "outputs": [
        {
          "output_type": "display_data",
          "data": {
            "application/vnd.jupyter.widget-view+json": {
              "model_id": "42392b1c230e4cddae9f74e93d588fd7",
              "version_minor": 0,
              "version_major": 2
            },
            "text/plain": [
              "HBox(children=(HTML(value='Running Evaluation'), FloatProgress(value=0.0, max=125.0), HTML(value='')))"
            ]
          },
          "metadata": {
            "tags": []
          }
        },
        {
          "output_type": "stream",
          "text": [
            "\n"
          ],
          "name": "stdout"
        },
        {
          "output_type": "execute_result",
          "data": {
            "text/plain": [
              "{'LRAP': 0.9879855555555557,\n",
              " 'acc': 0.9797946485975007,\n",
              " 'eval_loss': 0.13224998372793198}"
            ]
          },
          "metadata": {
            "tags": []
          },
          "execution_count": 9
        }
      ]
    }
  ]
}