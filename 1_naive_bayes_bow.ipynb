{
 "cells": [
  {
   "cell_type": "markdown",
   "metadata": {},
   "source": [
    "# Naïve Bayes classifier with BOW representation\n",
    "\n",
    "In this notebook we obtain a baseline score for the toxic comment classification using a simple Naïve Bayes classifier.\n",
    "\n",
    "Result:\n",
    "The ROC AUC score for this model is 0.78"
   ]
  },
  {
   "cell_type": "code",
   "execution_count": 1,
   "metadata": {},
   "outputs": [],
   "source": [
    "import spacy\n",
    "nlp = spacy.load('en_core_web_sm')\n",
    "\n",
    "from sklearn.feature_extraction.text import CountVectorizer\n",
    "from sklearn.multiclass import OneVsRestClassifier\n",
    "from sklearn.naive_bayes import MultinomialNB\n",
    "from sklearn.metrics import roc_auc_score\n",
    "\n",
    "from helper import train_validation_test_data"
   ]
  },
  {
   "cell_type": "code",
   "execution_count": 2,
   "metadata": {},
   "outputs": [],
   "source": [
    "# We aren't doing any tuning on for the baseline so we will\n",
    "# ignore the validation set\n",
    "x_train, _, x_test, y_train, _, y_test = train_validation_test_data()"
   ]
  },
  {
   "cell_type": "markdown",
   "metadata": {},
   "source": [
    "## Transform corpus to bag-of-words representation\n",
    "\n",
    "* Remove stop words and non-alpha text to reduce dictionary size\n",
    "* Can't use the faster HashingVectorizer since that doesn't support exporting a dictionary for later vectorizing the validation/test set"
   ]
  },
  {
   "cell_type": "code",
   "execution_count": 3,
   "metadata": {},
   "outputs": [],
   "source": [
    "def tokenize(text):\n",
    "    doc = nlp(text)\n",
    "    return [token.lemma_ for token in doc if not token.is_stop and token.is_alpha]\n",
    "\n",
    "vectorizer = CountVectorizer(lowercase=True, tokenizer=tokenize)"
   ]
  },
  {
   "cell_type": "code",
   "execution_count": 4,
   "metadata": {},
   "outputs": [
    {
     "data": {
      "text/plain": [
       "<5000x17711 sparse matrix of type '<class 'numpy.int64'>'\n",
       "\twith 110126 stored elements in Compressed Sparse Row format>"
      ]
     },
     "execution_count": 4,
     "metadata": {},
     "output_type": "execute_result"
    }
   ],
   "source": [
    "train_bow = vectorizer.fit_transform(x_train)\n",
    "train_bow"
   ]
  },
  {
   "cell_type": "code",
   "execution_count": 5,
   "metadata": {},
   "outputs": [
    {
     "data": {
      "text/plain": [
       "OneVsRestClassifier(estimator=MultinomialNB(), n_jobs=-1)"
      ]
     },
     "execution_count": 5,
     "metadata": {},
     "output_type": "execute_result"
    }
   ],
   "source": [
    "classifier = OneVsRestClassifier(MultinomialNB(), n_jobs=-1)\n",
    "classifier.fit(train_bow, y_train)"
   ]
  },
  {
   "cell_type": "markdown",
   "metadata": {},
   "source": [
    "### Evaluate the classifier on the test set\n",
    "\n",
    "The metrics for the classifier is mean column-wise ROC AUC"
   ]
  },
  {
   "cell_type": "code",
   "execution_count": 6,
   "metadata": {},
   "outputs": [],
   "source": [
    "y_train_pred = classifier.predict_proba(train_bow)\n",
    "\n",
    "test_bow = vectorizer.transform(x_test)\n",
    "y_test_pred = classifier.predict_proba(test_bow)"
   ]
  },
  {
   "cell_type": "code",
   "execution_count": 7,
   "metadata": {},
   "outputs": [
    {
     "name": "stdout",
     "output_type": "stream",
     "text": [
      "Train ROC AUC: 0.9285338821225851\n",
      "Test ROC AUC: 0.7871971799805966\n"
     ]
    }
   ],
   "source": [
    "print('Train ROC AUC:', roc_auc_score(y_train, y_train_pred))\n",
    "print('Test ROC AUC:', roc_auc_score(y_test, y_test_pred))"
   ]
  }
 ],
 "metadata": {
  "kernelspec": {
   "display_name": "Python 3",
   "language": "python",
   "name": "python3"
  },
  "language_info": {
   "codemirror_mode": {
    "name": "ipython",
    "version": 3
   },
   "file_extension": ".py",
   "mimetype": "text/x-python",
   "name": "python",
   "nbconvert_exporter": "python",
   "pygments_lexer": "ipython3",
   "version": "3.8.5"
  }
 },
 "nbformat": 4,
 "nbformat_minor": 4
}
