{
 "cells": [
  {
   "cell_type": "markdown",
   "metadata": {},
   "source": [
    "# Improved Naïve Bayes classifier with BOW and n-gram"
   ]
  },
  {
   "cell_type": "code",
   "execution_count": 29,
   "metadata": {},
   "outputs": [],
   "source": [
    "import pickle\n",
    "\n",
    "import spacy\n",
    "nlp = spacy.load('en_core_web_sm')\n",
    "\n",
    "from sklearn.feature_extraction.text import CountVectorizer\n",
    "from sklearn.multiclass import OneVsRestClassifier\n",
    "from sklearn.naive_bayes import MultinomialNB\n",
    "from sklearn.metrics import roc_auc_score\n",
    "import matplotlib.pyplot as plt\n",
    "\n",
    "from config import N_GRAM\n",
    "from helper import train_validation_test_data"
   ]
  },
  {
   "cell_type": "code",
   "execution_count": 2,
   "metadata": {},
   "outputs": [],
   "source": [
    "x_train, x_validation, x_test, y_train, y_validation, y_test = train_validation_test_data()"
   ]
  },
  {
   "cell_type": "markdown",
   "metadata": {},
   "source": [
    "## Transform corpus to BOW representation (with n-gram and trained token removal)\n",
    "\n",
    "* Instead of removing standard stopwords and non-alpha tokens, we filter the corpus using our own set of informative words `CUTOFF_LO <= freq(tok) < CUTOFF_HI` from [data_exploration.ipynb](./data_exploration.ipynb). This increase the AUC score of the model by 0.02 while nearly halving the dictionary vector size.\n",
    "\n",
    "* Add bi-grams features to the BOW vectors, we also remove rare bi-grams to improve performance.\n",
    "\n",
    "Note:\n",
    "* I tried using tri-grams, while it made signaficant improvement to the training score, it didn't really improve the validation score. My hypothesis is that the training tri-grams are too specialized which causes the model to overfit."
   ]
  },
  {
   "cell_type": "code",
   "execution_count": 20,
   "metadata": {},
   "outputs": [],
   "source": [
    "with open('informative_tokens.pickle', 'rb') as f, open('informative_ngrams.pickle', 'rb') as f_ngram:\n",
    "    retain = pickle.load(f)\n",
    "    retain_ngram = pickle.load(f_ngram)\n",
    "\n",
    "def tokenize(text):\n",
    "    doc = nlp(text)\n",
    "    tokens = [token for word in doc if (token := word.lemma_.lower()) in retain]\n",
    "\n",
    "    ngtoks = [token.lemma_.lower() for token in doc if token.is_alpha]\n",
    "    if len(ngtoks) > N_GRAM:\n",
    "        for i in range(0, len(ngtoks) - N_GRAM + 1):\n",
    "            ngram = ' '.join(ngtoks[i:i+N_GRAM])\n",
    "            if ngram in retain_ngram:\n",
    "                tokens.append(ngram)\n",
    "                \n",
    "    return tokens\n",
    "\n",
    "vectorizer = CountVectorizer(tokenizer=tokenize)"
   ]
  },
  {
   "cell_type": "code",
   "execution_count": 21,
   "metadata": {},
   "outputs": [
    {
     "data": {
      "text/plain": [
       "<5000x15633 sparse matrix of type '<class 'numpy.int64'>'\n",
       "\twith 223454 stored elements in Compressed Sparse Row format>"
      ]
     },
     "execution_count": 21,
     "metadata": {},
     "output_type": "execute_result"
    }
   ],
   "source": [
    "train_bow = vectorizer.fit_transform(x_train)\n",
    "train_bow"
   ]
  },
  {
   "cell_type": "code",
   "execution_count": 22,
   "metadata": {},
   "outputs": [
    {
     "data": {
      "text/plain": [
       "OneVsRestClassifier(estimator=MultinomialNB(), n_jobs=-1)"
      ]
     },
     "execution_count": 22,
     "metadata": {},
     "output_type": "execute_result"
    }
   ],
   "source": [
    "classifier = OneVsRestClassifier(MultinomialNB(), n_jobs=-1)\n",
    "classifier.fit(train_bow, y_train)"
   ]
  },
  {
   "cell_type": "markdown",
   "metadata": {},
   "source": [
    "## Validation"
   ]
  },
  {
   "cell_type": "code",
   "execution_count": 23,
   "metadata": {},
   "outputs": [],
   "source": [
    "y_train_pred = classifier.predict_proba(train_bow)\n",
    "\n",
    "validation_bow = vectorizer.transform(x_validation)\n",
    "y_validation_pred = classifier.predict_proba(validation_bow)"
   ]
  },
  {
   "cell_type": "code",
   "execution_count": 24,
   "metadata": {},
   "outputs": [
    {
     "name": "stdout",
     "output_type": "stream",
     "text": [
      "Train ROC AUC: 0.9591127148493229\n",
      "Validation ROC AUC: 0.8159482659026599\n"
     ]
    }
   ],
   "source": [
    "print('Train ROC AUC:', roc_auc_score(y_train, y_train_pred))\n",
    "print('Validation ROC AUC:', roc_auc_score(y_validation, y_validation_pred))"
   ]
  },
  {
   "cell_type": "markdown",
   "metadata": {},
   "source": [
    "## Model evaluation on test set"
   ]
  },
  {
   "cell_type": "code",
   "execution_count": 25,
   "metadata": {},
   "outputs": [],
   "source": [
    "test_bow = vectorizer.transform(x_test)\n",
    "y_test_pred = classifier.predict_proba(test_bow)"
   ]
  },
  {
   "cell_type": "code",
   "execution_count": 26,
   "metadata": {},
   "outputs": [
    {
     "name": "stdout",
     "output_type": "stream",
     "text": [
      "Test ROC AUC: 0.7996726231505727\n"
     ]
    }
   ],
   "source": [
    "print('Test ROC AUC:', roc_auc_score(y_test, y_test_pred))"
   ]
  },
  {
   "cell_type": "markdown",
   "metadata": {},
   "source": [
    "The test score is improved slightly over the previous simple model, but not significantly."
   ]
  },
  {
   "cell_type": "code",
   "execution_count": 45,
   "metadata": {},
   "outputs": [
    {
     "data": {
      "image/png": "[encoded data removed]",
      "text/plain": [
       "<Figure size 1080x360 with 2 Axes>"
      ]
     },
     "metadata": {
      "needs_background": "light"
     },
     "output_type": "display_data"
    }
   ],
   "source": [
    "fig, axes = plt.subplots(nrows=1, ncols=2, figsize=(15, 5))\n",
    "\n",
    "axes[0].bar(range(y_train.shape[1]), y_train.sum(), tick_label=y_train.columns)\n",
    "axes[0].title.set_text('Training label frequencies')\n",
    "scores = roc_auc_score(y_test, y_test_pred, average=None)\n",
    "axes[1].bar(range(y_test.shape[1]), scores, tick_label=y_test.columns)\n",
    "axes[1].title.set_text('Model ROC AUC scores per label on test set')"
   ]
  },
  {
   "cell_type": "markdown",
   "metadata": {},
   "source": [
    "Interestingly the unbalanced dataset w.r.t. the number of training instances per label does not affect the test score too severely."
   ]
  }
 ],
 "metadata": {
  "kernelspec": {
   "display_name": "Python 3",
   "language": "python",
   "name": "python3"
  },
  "language_info": {
   "codemirror_mode": {
    "name": "ipython",
    "version": 3
   },
   "file_extension": ".py",
   "mimetype": "text/x-python",
   "name": "python",
   "nbconvert_exporter": "python",
   "pygments_lexer": "ipython3",
   "version": "3.8.5"
  }
 },
 "nbformat": 4,
 "nbformat_minor": 4
}
